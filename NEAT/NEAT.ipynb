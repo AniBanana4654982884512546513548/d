{
 "cells": [
  {
   "cell_type": "markdown",
   "metadata": {},
   "source": [
    "# https://github.com/uber-research/PyTorch-NEAT/"
   ]
  },
  {
   "cell_type": "code",
   "execution_count": 13,
   "metadata": {},
   "outputs": [
    {
     "name": "stdout",
     "output_type": "stream",
     "text": [
      "\n",
      " ****** Running generation 0 ****** \n",
      "\n",
      "[0.6206290434227372, 0.044840624198711605, 0.8620271036171435, 0.02089390001881628]\n",
      "3.6148195904601783\n",
      "[0.8631803045595555, 0.1796189473888109, 0.001176007773995759, 0.001989401418916337]\n",
      "3.596099961399762\n",
      "[0.10933108472270711, 4.663784107854141e-06, 0.9999931248399461, 6.7764624392827015e-06]\n",
      "2.8028088447585326\n",
      "[0.3212896426479505, 2.1750624782905764e-05, 0.9648010679328611, 6.329992822937125e-07]\n",
      "2.699581810285685\n",
      "[0.008812341438142933, 0.22740780819240375, 0.9999991616033655, 0.9936277180651725]\n",
      "3.9999223426383774\n",
      "[0.06565801425958545, 0.25250840497222415, 0.9999995585555542, 0.9999731244735852]\n",
      "3.1269273963210367\n",
      "[0.9732859580266147, 0.9235584302611812, 0.9997348103547111, 0.8957546426387011]\n",
      "3.126213756282481\n",
      "[0.9965394336085162, 0.9327321280094818, 0.9998603511211364, 0.9995125239738647]\n",
      "2.133122913545699\n",
      "[0.023351586766964992, 0.9995678303928257, 0.15699625536807957, 0.9930653078991128]\n",
      "3.999454703395465\n",
      "[9.653099706320956e-06, 0.9999194293871153, 0.004621216205317562, 0.9999722704719349]\n",
      "2.9994740095016956\n",
      "[0.00021957188343653633, 0.9999978436758742, 0.6891324556284872, 0.9991165353175366]\n",
      "1.999913105056757\n",
      "[8.866758795409122e-08, 0.9999995981309936, 0.0523690477410975, 0.9999964886293918]\n",
      "1.9999131050567491\n",
      "Population's average fitness: 2.27754 stdev: 0.30334\n",
      "Best fitness: 2.69958 - size: (4, 8) - species 1 - id 1\n",
      "Average adjusted fitness: 0.278\n",
      "Mean genetic distance 0.953, standard deviation 0.552\n",
      "Population of 3 members in 1 species:\n",
      "   ID   age  size  fitness  adj fit  stag\n",
      "  ====  ===  ====  =======  =======  ====\n",
      "     1    0     3      2.7    0.278     0\n",
      "Total extinctions: 0\n",
      "Generation time: 0.002 sec\n",
      "\n",
      " ****** Running generation 1 ****** \n",
      "\n",
      "[0.6206290434227372, 0.044840624198711605, 0.8620271036171435, 0.02089390001881628]\n",
      "3.6148195904601783\n",
      "[0.8631803045595555, 0.1796189473888109, 0.001176007773995759, 0.001989401418916337]\n",
      "3.596099961399762\n",
      "[0.10933108472270711, 4.663784107854141e-06, 0.9999931248399461, 6.7764624392827015e-06]\n",
      "2.8028088447585326\n",
      "[0.3212896426479505, 2.1750624782905764e-05, 0.9648010679328611, 6.329992822937125e-07]\n",
      "2.699581810285685\n",
      "[0.008812341438142933, 0.22740780819240375, 0.9999991616033655, 0.9936277180651725]\n",
      "3.9999223426383774\n",
      "[0.06565801425958545, 0.25250840497222415, 0.9999995585555542, 0.9999731244735852]\n",
      "3.1269273963210367\n",
      "[0.9732859580266147, 0.9235584302611812, 0.9997348103547111, 0.8957546426387011]\n",
      "3.126213756282481\n",
      "[0.9965394336085162, 0.9327321280094818, 0.9998603511211364, 0.9995125239738647]\n",
      "2.133122913545699\n",
      "[0.2067745327822016, 0.12791760245395367, 0.808727703697194, 0.9955022856449365]\n",
      "3.9572442925927023\n",
      "[8.571296052862929e-05, 0.14408475125981335, 0.006014865260451138, 0.9998743022962452]\n",
      "2.957415711167048\n",
      "[0.9985338134610414, 0.8575656144916263, 0.9999847093541865, 0.4883976670011109]\n",
      "2.957413561464081\n",
      "[0.18297515870158193, 0.873574935205684, 0.9894288731553673, 0.9716786516964573]\n",
      "2.9239336527622117\n",
      "Population's average fitness: 2.58555 stdev: 0.33276\n",
      "Best fitness: 2.92393 - size: (4, 8) - species 1 - id 4\n",
      "Average adjusted fitness: 0.452\n",
      "Mean genetic distance 0.605, standard deviation 0.322\n",
      "Population of 3 members in 1 species:\n",
      "   ID   age  size  fitness  adj fit  stag\n",
      "  ====  ===  ====  =======  =======  ====\n",
      "     1    1     3      2.9    0.452     0\n",
      "Total extinctions: 0\n",
      "Generation time: 0.002 sec (0.002 average)\n",
      "\n",
      " ****** Running generation 2 ****** \n",
      "\n",
      "[0.2067745327822016, 0.12791760245395367, 0.808727703697194, 0.9955022856449365]\n",
      "3.9572442925927023\n",
      "[8.571296052862929e-05, 0.14408475125981335, 0.006014865260451138, 0.9998743022962452]\n",
      "2.957415711167048\n",
      "[0.9985338134610414, 0.8575656144916263, 0.9999847093541865, 0.4883976670011109]\n",
      "2.957413561464081\n",
      "[0.18297515870158193, 0.873574935205684, 0.9894288731553673, 0.9716786516964573]\n",
      "2.9239336527622117\n",
      "[0.6206290434227372, 0.044840624198711605, 0.8620271036171435, 0.02089390001881628]\n",
      "3.6148195904601783\n",
      "[0.8631803045595555, 0.1796189473888109, 0.001176007773995759, 0.001989401418916337]\n",
      "3.596099961399762\n",
      "[0.10933108472270711, 4.663784107854141e-06, 0.9999931248399461, 6.7764624392827015e-06]\n",
      "2.8028088447585326\n",
      "[0.3212896426479505, 2.1750624782905764e-05, 0.9648010679328611, 6.329992822937125e-07]\n",
      "2.699581810285685\n",
      "[0.7308812672301167, 0.035761182562563526, 0.8620271036171435, 0.020709232678012935]\n",
      "3.465812573212099\n",
      "[0.2166583864913191, 0.041538886426166044, 6.460008781968602e-05, 0.0047092457769862175]\n",
      "2.852188489757715\n",
      "[0.016704153343435973, 3.6844300685059146e-06, 0.9999711989158858, 3.560507634375242e-05]\n",
      "1.8853177677056663\n",
      "[0.0017270740578595868, 4.3054955000299035e-06, 0.2641729877096072, 7.966599129621989e-06]\n",
      "1.885314784920865\n",
      "Population's average fitness: 2.50294 stdev: 0.44623\n",
      "Best fitness: 2.92393 - size: (4, 8) - species 1 - id 4\n",
      "Average adjusted fitness: 0.595\n",
      "Mean genetic distance 0.729, standard deviation 0.366\n",
      "Population of 3 members in 1 species:\n",
      "   ID   age  size  fitness  adj fit  stag\n",
      "  ====  ===  ====  =======  =======  ====\n",
      "     1    2     3      2.9    0.595     1\n",
      "Total extinctions: 0\n",
      "Generation time: 0.003 sec (0.002 average)\n"
     ]
    }
   ],
   "source": [
    "\"\"\"\n",
    "2-input XOR example -- this is most likely the simplest possible example.\n",
    "\"\"\"\n",
    "\n",
    "from __future__ import print_function\n",
    "import os\n",
    "import neat\n",
    "\n",
    "# 2-input XOR inputs and expected outputs.\n",
    "xor_inputs = [(0.0, 0.0), (0.0, 1.0), (1.0, 0.0), (1.0, 1.0)]\n",
    "xor_outputs = [   (0.0,),     (1.0,),     (1.0,),     (0.0,)]\n",
    "\n",
    "\n",
    "def eval_genomes(genomes, config):\n",
    "    for genome_id, genome in genomes:\n",
    "        genome.fitness = 4.0\n",
    "        net = neat.nn.FeedForwardNetwork.create(genome, config)\n",
    "        for xi, xo in zip(xor_inputs, xor_outputs):\n",
    "            output = net.activate(xi)\n",
    "            print(output)\n",
    "            genome.fitness -= (output[0] - xo[0]) ** 2\n",
    "            print(genome.fitness)\n",
    "\n",
    "\n",
    "def run(config_file):\n",
    "    # Load configuration.\n",
    "    config = neat.Config(neat.DefaultGenome, neat.DefaultReproduction,\n",
    "                         neat.DefaultSpeciesSet, neat.DefaultStagnation,\n",
    "                         config_file)\n",
    "\n",
    "    # Create the population, which is the top-level object for a NEAT run.\n",
    "    p = neat.Population(config)\n",
    "\n",
    "    # Add a stdout reporter to show progress in the terminal.\n",
    "    p.add_reporter(neat.StdOutReporter(True))\n",
    "    stats = neat.StatisticsReporter()\n",
    "    p.add_reporter(stats)\n",
    "    p.add_reporter(neat.Checkpointer(5))\n",
    "\n",
    "    # Run for up to 300 generations.\n",
    "    winner = p.run(eval_genomes, 3)\n",
    "    return p, config\n",
    "\n",
    "\n",
    "if __name__ == '__main__':\n",
    "    # Determine path to configuration file. This path manipulation is\n",
    "    # here so that the script will run successfully regardless of the\n",
    "    # current working directory.\n",
    "#     local_dir = os.path.dirname(__file__)\n",
    "#     config_path = os.path.join(local_dir, 'config-feedforward')\n",
    "    p, config = run('config-neat')"
   ]
  },
  {
   "cell_type": "code",
   "execution_count": 10,
   "metadata": {},
   "outputs": [
    {
     "data": {
      "text/plain": [
       "dict_keys([12, 7, 15, 23, 24, 25, 26, 27, 28, 29])"
      ]
     },
     "execution_count": 10,
     "metadata": {},
     "output_type": "execute_result"
    }
   ],
   "source": [
    "p.population.keys()"
   ]
  },
  {
   "cell_type": "markdown",
   "metadata": {},
   "source": [
    "### Create Child"
   ]
  },
  {
   "cell_type": "code",
   "execution_count": 8,
   "metadata": {},
   "outputs": [],
   "source": [
    "child = config.genome_type(1)\n",
    "child.configure_crossover(p.population[1], p.population[19], config.genome_config)\n",
    "child.mutate(config.genome_config)"
   ]
  },
  {
   "cell_type": "code",
   "execution_count": null,
   "metadata": {},
   "outputs": [],
   "source": []
  },
  {
   "cell_type": "code",
   "execution_count": 10,
   "metadata": {},
   "outputs": [],
   "source": [
    "# Load configuration.\n",
    "config = neat.Config(neat.DefaultGenome, neat.DefaultReproduction,\n",
    "                     neat.DefaultSpeciesSet, neat.DefaultStagnation,\n",
    "                     'config-feedforward')\n",
    "\n",
    "# Create the population, which is the top-level object for a NEAT run.\n",
    "p = neat.Population(config)"
   ]
  },
  {
   "cell_type": "code",
   "execution_count": 11,
   "metadata": {},
   "outputs": [
    {
     "data": {
      "text/plain": [
       "{1: <neat.genome.DefaultGenome at 0x298e6af1108>,\n",
       " 2: <neat.genome.DefaultGenome at 0x298e6bbeac8>,\n",
       " 3: <neat.genome.DefaultGenome at 0x298e725bf88>,\n",
       " 4: <neat.genome.DefaultGenome at 0x298e726a488>,\n",
       " 5: <neat.genome.DefaultGenome at 0x298e720ca88>,\n",
       " 6: <neat.genome.DefaultGenome at 0x298e726e988>,\n",
       " 7: <neat.genome.DefaultGenome at 0x298e7282988>,\n",
       " 8: <neat.genome.DefaultGenome at 0x298e7294308>,\n",
       " 9: <neat.genome.DefaultGenome at 0x298e728fe08>,\n",
       " 10: <neat.genome.DefaultGenome at 0x298e72100c8>}"
      ]
     },
     "execution_count": 11,
     "metadata": {},
     "output_type": "execute_result"
    }
   ],
   "source": [
    "p.population"
   ]
  },
  {
   "cell_type": "code",
   "execution_count": 11,
   "metadata": {},
   "outputs": [],
   "source": [
    "genome = p.population[1]"
   ]
  },
  {
   "cell_type": "code",
   "execution_count": 12,
   "metadata": {},
   "outputs": [],
   "source": [
    "genome.fitness"
   ]
  },
  {
   "cell_type": "code",
   "execution_count": 21,
   "metadata": {},
   "outputs": [
    {
     "data": {
      "text/plain": [
       "<neat.config.Config at 0x298e6bd39c8>"
      ]
     },
     "execution_count": 21,
     "metadata": {},
     "output_type": "execute_result"
    }
   ],
   "source": [
    "p.config"
   ]
  },
  {
   "cell_type": "code",
   "execution_count": null,
   "metadata": {},
   "outputs": [],
   "source": []
  },
  {
   "cell_type": "code",
   "execution_count": 22,
   "metadata": {},
   "outputs": [],
   "source": [
    "net = neat.nn.FeedForwardNetwork.create(genome, p.config)"
   ]
  },
  {
   "cell_type": "code",
   "execution_count": 39,
   "metadata": {},
   "outputs": [
    {
     "data": {
      "text/plain": [
       "{(-1, 0): <neat.genes.DefaultConnectionGene at 0x298e727ce08>,\n",
       " (-2, 0): <neat.genes.DefaultConnectionGene at 0x298e726ec88>}"
      ]
     },
     "execution_count": 39,
     "metadata": {},
     "output_type": "execute_result"
    }
   ],
   "source": [
    "p.population[4].connections"
   ]
  },
  {
   "cell_type": "code",
   "execution_count": 33,
   "metadata": {},
   "outputs": [
    {
     "data": {
      "text/plain": [
       "{-1: 1, -2: 3, 0: 2.8310618635819293e-20}"
      ]
     },
     "execution_count": 33,
     "metadata": {},
     "output_type": "execute_result"
    }
   ],
   "source": [
    "net.values"
   ]
  },
  {
   "cell_type": "code",
   "execution_count": 32,
   "metadata": {},
   "outputs": [
    {
     "data": {
      "text/plain": [
       "[2.8310618635819293e-20]"
      ]
     },
     "execution_count": 32,
     "metadata": {},
     "output_type": "execute_result"
    }
   ],
   "source": [
    "net.activate((1, 3))"
   ]
  },
  {
   "cell_type": "code",
   "execution_count": 1,
   "metadata": {},
   "outputs": [
    {
     "name": "stdout",
     "output_type": "stream",
     "text": [
      "pygame 1.9.6\n",
      "Hello from the pygame community. https://www.pygame.org/contribute.html\n"
     ]
    }
   ],
   "source": [
    "import neat\n",
    "from Field.Organism import Organism\n",
    "from Field.EnvNeat import Environment\n",
    "\n",
    "config = neat.Config(neat.DefaultGenome, neat.DefaultReproduction,\n",
    "                     neat.DefaultSpeciesSet, neat.DefaultStagnation,\n",
    "                     \"config-neat\")\n",
    "p = neat.Population(config)\n",
    "organisms = [Organism(1, 1, p.population[key], config) for key in p.population.keys()]\n",
    "\n",
    "\n",
    "env = Environment(organisms)"
   ]
  },
  {
   "cell_type": "code",
   "execution_count": 5,
   "metadata": {},
   "outputs": [],
   "source": [
    "organism = env.organisms[0]"
   ]
  },
  {
   "cell_type": "code",
   "execution_count": 9,
   "metadata": {},
   "outputs": [],
   "source": [
    "import numpy as np"
   ]
  },
  {
   "cell_type": "code",
   "execution_count": 10,
   "metadata": {},
   "outputs": [
    {
     "data": {
      "text/plain": [
       "2"
      ]
     },
     "execution_count": 10,
     "metadata": {},
     "output_type": "execute_result"
    }
   ],
   "source": [
    "np.argmax(organism.think([1, 1]))"
   ]
  },
  {
   "cell_type": "code",
   "execution_count": null,
   "metadata": {},
   "outputs": [],
   "source": []
  }
 ],
 "metadata": {
  "kernelspec": {
   "display_name": "Python 3",
   "language": "python",
   "name": "python3"
  },
  "language_info": {
   "codemirror_mode": {
    "name": "ipython",
    "version": 3
   },
   "file_extension": ".py",
   "mimetype": "text/x-python",
   "name": "python",
   "nbconvert_exporter": "python",
   "pygments_lexer": "ipython3",
   "version": "3.7.3"
  }
 },
 "nbformat": 4,
 "nbformat_minor": 2
}
