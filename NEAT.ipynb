{
 "cells": [
  {
   "cell_type": "code",
   "execution_count": null,
   "metadata": {},
   "outputs": [],
   "source": [
    "import neat\n",
    "from FieldNeat.Organism import Organism\n",
    "from FieldNeat.EnvNeat import Environment\n",
    "\n",
    "config = neat.Config(neat.DefaultGenome, neat.DefaultReproduction,\n",
    "                     neat.DefaultSpeciesSet, neat.DefaultStagnation,\n",
    "                     \"FieldNeat/config-neat\")\n",
    "p = neat.Population(config)\n",
    "organisms = [Organism(1, 1, p.population[key], config) for key in p.population.keys()]\n",
    "env = Environment(organisms, config)\n",
    "#\n",
    "# while True:\n",
    "#     env.update()\n",
    "#     env.render()\n",
    "\n",
    "for i in range(5_000):\n",
    "    if i % 5_000 == 0:\n",
    "        print(i)\n",
    "\n",
    "    env.update()\n",
    "    if i > 4_000:\n",
    "        env.render()\n"
   ]
  },
  {
   "cell_type": "code",
   "execution_count": 39,
   "metadata": {},
   "outputs": [],
   "source": [
    "test = [1, 2, 3]"
   ]
  },
  {
   "cell_type": "code",
   "execution_count": 40,
   "metadata": {},
   "outputs": [],
   "source": [
    "best = test[0]"
   ]
  },
  {
   "cell_type": "code",
   "execution_count": 41,
   "metadata": {},
   "outputs": [],
   "source": [
    "test[0] = 100"
   ]
  },
  {
   "cell_type": "code",
   "execution_count": 42,
   "metadata": {},
   "outputs": [
    {
     "data": {
      "text/plain": [
       "1"
      ]
     },
     "execution_count": 42,
     "metadata": {},
     "output_type": "execute_result"
    }
   ],
   "source": [
    "best"
   ]
  },
  {
   "cell_type": "code",
   "execution_count": null,
   "metadata": {},
   "outputs": [],
   "source": []
  },
  {
   "cell_type": "code",
   "execution_count": 4,
   "metadata": {},
   "outputs": [],
   "source": [
    "from Field import GridWorld\n",
    "import neat\n",
    "import numpy as np\n",
    "\n",
    "config = neat.Config(neat.DefaultGenome, neat.DefaultReproduction,\n",
    "                     neat.DefaultSpeciesSet, neat.DefaultStagnation,\n",
    "                     \"config-neat\")\n",
    "p = neat.Population(config)\n",
    "population = list(p.population.values())\n",
    "for genome in population:\n",
    "    genome.fitness = 0\n",
    "best_organism = population[0]\n",
    "best_organism_idx = 0\n",
    "env = GridWorld(width=10, height=10, nr_agents=len(p.population))"
   ]
  },
  {
   "cell_type": "code",
   "execution_count": 5,
   "metadata": {},
   "outputs": [
    {
     "name": "stdout",
     "output_type": "stream",
     "text": [
      "0\n"
     ]
    }
   ],
   "source": [
    "s = env.reset()\n",
    "env.max_step = 10_000\n",
    "brains = [neat.nn.FeedForwardNetwork.create(population[index], config) for index in range(len(population))]\n",
    "max_age = 0\n",
    "for n_epi in range(10_000):\n",
    "    if n_epi % 10_000 == 0:\n",
    "        print(n_epi)\n",
    "    \n",
    "    \n",
    "    actions = []\n",
    "    \n",
    "    for index in range(len(population)):\n",
    "        \n",
    "        action = np.argmax(brains[index].activate(s[index]))\n",
    "        actions.append(action)\n",
    "\n",
    "    s_prime, r, dones, infos = env.step(actions)\n",
    "\n",
    "    highest_age = max([agent.age for agent in env.agents])\n",
    "    if highest_age > max_age:        \n",
    "        max_age = highest_age\n",
    "    \n",
    "    \n",
    "    for index in range(len(p.population)):\n",
    "        if dones[index]:\n",
    "            parent1 = best_organism\n",
    "            parent2 = best_organism\n",
    "\n",
    "            fitnesses = [agent.age for agent in env.agents]\n",
    "            if env.agents[best_organism_idx].age < max(fitnesses):\n",
    "                parent1 = population[np.argmax(fitnesses)]\n",
    "                parent2 = population[np.argmax(fitnesses)]\n",
    "                best_organism = population[np.argmax(fitnesses)]\n",
    "                best_organism_idx = np.argmax(fitnesses)\n",
    "\n",
    "            child = config.genome_type(1)\n",
    "            child.configure_crossover(parent1, parent2, config.genome_config)\n",
    "            child.mutate(config.genome_config)\n",
    "            child.fitness = 0\n",
    "            brains[index] = neat.nn.FeedForwardNetwork.create(population[index], config)\n",
    "            population[index] = child\n",
    "            \n",
    "            env.agents[index].x, env.agents[index].y = env.agents[index].x, env.agents[index].y\n",
    "            env.agents[index].health = 200\n",
    "            env.agents[index].value = env.agents[index].value\n",
    "            env.agents[index].coordinates = [env.agents[index].x, env.agents[index].y]\n",
    "            env.agents[index].target_coordinates = [env.agents[index].x, env.agents[index].y]\n",
    "            env.agents[index].dead = False\n",
    "            env.agents[index].done = False\n",
    "            env.agents[index].age = 0\n",
    "            env.agents[index].x_target = None\n",
    "            env.agents[index].y_target = None"
   ]
  },
  {
   "cell_type": "code",
   "execution_count": 8,
   "metadata": {},
   "outputs": [],
   "source": [
    "s = env.reset()"
   ]
  },
  {
   "cell_type": "code",
   "execution_count": 24,
   "metadata": {},
   "outputs": [
    {
     "data": {
      "text/plain": [
       "array([[1., 0., 0., 0., 0., 0., 1., 0., 0., 0.],\n",
       "       [3., 0., 1., 0., 0., 0., 0., 0., 0., 2.],\n",
       "       [0., 0., 0., 0., 0., 0., 0., 3., 0., 0.],\n",
       "       [0., 0., 2., 0., 0., 0., 0., 2., 0., 0.],\n",
       "       [0., 0., 0., 0., 0., 1., 0., 0., 0., 1.],\n",
       "       [0., 0., 1., 2., 2., 0., 3., 0., 0., 0.],\n",
       "       [0., 0., 0., 0., 0., 2., 0., 0., 0., 0.],\n",
       "       [0., 0., 0., 0., 0., 0., 0., 0., 1., 0.],\n",
       "       [0., 0., 1., 0., 1., 0., 0., 2., 1., 0.],\n",
       "       [1., 0., 0., 0., 0., 0., 0., 0., 0., 2.]])"
      ]
     },
     "execution_count": 24,
     "metadata": {},
     "output_type": "execute_result"
    }
   ],
   "source": [
    "env.grid.grid"
   ]
  },
  {
   "cell_type": "code",
   "execution_count": 25,
   "metadata": {},
   "outputs": [
    {
     "data": {
      "text/plain": [
       "[3, 3, 3]"
      ]
     },
     "execution_count": 25,
     "metadata": {},
     "output_type": "execute_result"
    }
   ],
   "source": [
    "actions = []\n",
    "for index in range(len(population)):\n",
    "    action = np.argmax(brains[index].activate(s[index]))\n",
    "    actions.append(action)\n",
    "actions"
   ]
  },
  {
   "cell_type": "code",
   "execution_count": 26,
   "metadata": {},
   "outputs": [
    {
     "data": {
      "text/plain": [
       "array([[1., 0., 0., 0., 0., 0., 1., 0., 0., 0.],\n",
       "       [0., 0., 1., 0., 0., 0., 0., 0., 0., 1.],\n",
       "       [0., 0., 0., 0., 0., 0., 3., 0., 0., 0.],\n",
       "       [0., 0., 2., 0., 0., 0., 0., 2., 0., 0.],\n",
       "       [0., 0., 0., 0., 0., 1., 0., 0., 0., 1.],\n",
       "       [0., 0., 1., 2., 2., 3., 0., 0., 0., 0.],\n",
       "       [0., 0., 0., 0., 0., 2., 0., 0., 0., 0.],\n",
       "       [0., 0., 0., 0., 0., 0., 0., 0., 1., 0.],\n",
       "       [0., 0., 1., 0., 1., 0., 0., 2., 1., 0.],\n",
       "       [1., 0., 0., 0., 0., 0., 0., 0., 0., 2.]])"
      ]
     },
     "execution_count": 26,
     "metadata": {},
     "output_type": "execute_result"
    }
   ],
   "source": [
    "s, r, dones, infos = env.step(actions)\n",
    "env.grid.grid"
   ]
  },
  {
   "cell_type": "code",
   "execution_count": null,
   "metadata": {},
   "outputs": [],
   "source": []
  }
 ],
 "metadata": {
  "kernelspec": {
   "display_name": "Python 3",
   "language": "python",
   "name": "python3"
  },
  "language_info": {
   "codemirror_mode": {
    "name": "ipython",
    "version": 3
   },
   "file_extension": ".py",
   "mimetype": "text/x-python",
   "name": "python",
   "nbconvert_exporter": "python",
   "pygments_lexer": "ipython3",
   "version": "3.7.4"
  }
 },
 "nbformat": 4,
 "nbformat_minor": 2
}
