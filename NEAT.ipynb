{
 "cells": [
  {
   "cell_type": "code",
   "execution_count": 6,
   "metadata": {},
   "outputs": [
    {
     "name": "stdout",
     "output_type": "stream",
     "text": [
      "\n",
      " ****** Running generation 0 ****** \n",
      "\n",
      "Population's average fitness: 2.24598 stdev: 0.35809\n",
      "Best fitness: 2.93531 - size: (5, 14) - species 7 - id 7\n",
      "Average adjusted fitness: 0.249\n",
      "Mean genetic distance 3.101, standard deviation 0.916\n",
      "Population of 20 members in 10 species:\n",
      "   ID   age  size  fitness  adj fit  stag\n",
      "  ====  ===  ====  =======  =======  ====\n",
      "     1    0     2      2.0    0.017     0\n",
      "     2    0     2      2.1    0.094     0\n",
      "     3    0     2      2.0    0.000     0\n",
      "     4    0     2      2.1    0.101     0\n",
      "     5    0     2      2.0    0.006     0\n",
      "     6    0     2      2.0    0.005     0\n",
      "     7    0     2      2.9    0.938     0\n",
      "     8    0     2      2.0    0.038     0\n",
      "     9    0     2      2.9    0.936     0\n",
      "    10    0     2      2.3    0.351     0\n",
      "Total extinctions: 0\n",
      "Generation time: 0.006 sec\n",
      "\n",
      " ****** Running generation 1 ****** \n",
      "\n",
      "Population's average fitness: 2.23421 stdev: 0.41879\n",
      "Best fitness: 2.98222 - size: (5, 14) - species 7 - id 20\n",
      "Average adjusted fitness: 0.467\n",
      "Mean genetic distance 3.101, standard deviation 0.916\n",
      "Population of 20 members in 10 species:\n",
      "   ID   age  size  fitness  adj fit  stag\n",
      "  ====  ===  ====  =======  =======  ====\n",
      "     1    1     2      2.6    0.509     0\n",
      "     2    1     2      2.2    0.387     0\n",
      "     3    1     2      2.4    0.453     0\n",
      "     4    1     2      2.1    0.335     1\n",
      "     5    1     2      3.0    0.649     0\n",
      "     6    1     2      2.0    0.216     1\n",
      "     7    1     2      3.0    0.983     0\n",
      "     8    1     2      2.0    0.286     1\n",
      "     9    1     2      2.9    0.578     1\n",
      "    10    1     2      2.3    0.274     1\n",
      "Total extinctions: 0\n",
      "Generation time: 0.006 sec (0.006 average)\n",
      "\n",
      " ****** Running generation 2 ****** \n",
      "\n",
      "Population's average fitness: 2.23421 stdev: 0.41879\n",
      "Best fitness: 2.98222 - size: (5, 14) - species 7 - id 20\n",
      "Average adjusted fitness: 0.467\n",
      "Mean genetic distance 3.101, standard deviation 0.916\n",
      "Population of 20 members in 10 species:\n",
      "   ID   age  size  fitness  adj fit  stag\n",
      "  ====  ===  ====  =======  =======  ====\n",
      "     1    2     2      2.6    0.509     1\n",
      "     2    2     2      2.2    0.387     1\n",
      "     3    2     2      2.4    0.453     1\n",
      "     4    2     2      2.1    0.335     2\n",
      "     5    2     2      3.0    0.649     1\n",
      "     6    2     2      2.0    0.216     2\n",
      "     7    2     2      3.0    0.983     1\n",
      "     8    2     2      2.0    0.286     2\n",
      "     9    2     2      2.9    0.578     2\n",
      "    10    2     2      2.3    0.274     2\n",
      "Total extinctions: 0\n",
      "Generation time: 0.006 sec (0.006 average)\n"
     ]
    }
   ],
   "source": [
    "\"\"\"\n",
    "2-input XOR example -- this is most likely the simplest possible example.\n",
    "\"\"\"\n",
    "\n",
    "from __future__ import print_function\n",
    "import os\n",
    "import neat\n",
    "\n",
    "# 2-input XOR inputs and expected outputs.\n",
    "xor_inputs = [(0.0, 0.0), (0.0, 1.0), (1.0, 0.0), (1.0, 1.0)]\n",
    "xor_outputs = [   (0.0,),     (1.0,),     (1.0,),     (0.0,)]\n",
    "\n",
    "\n",
    "def eval_genomes(genomes, config):\n",
    "    for genome_id, genome in genomes:\n",
    "        genome.fitness = 4.0\n",
    "        net = neat.nn.FeedForwardNetwork.create(genome, config)\n",
    "        for xi, xo in zip(xor_inputs, xor_outputs):\n",
    "#             print(xi)\n",
    "            output = net.activate(xi)\n",
    "            genome.fitness -= (output[0] - xo[0]) ** 2\n",
    "\n",
    "\n",
    "def run(config_file):\n",
    "    # Load configuration.\n",
    "    config = neat.Config(neat.DefaultGenome, neat.DefaultReproduction,\n",
    "                         neat.DefaultSpeciesSet, neat.DefaultStagnation,\n",
    "                         config_file)\n",
    "\n",
    "    # Create the population, which is the top-level object for a NEAT run.\n",
    "    p = neat.Population(config)\n",
    "\n",
    "    # Add a stdout reporter to show progress in the terminal.\n",
    "    p.add_reporter(neat.StdOutReporter(True))\n",
    "    stats = neat.StatisticsReporter()\n",
    "    p.add_reporter(stats)\n",
    "    p.add_reporter(neat.Checkpointer(5))\n",
    "\n",
    "    # Run for up to 300 generations.\n",
    "    winner = p.run(eval_genomes, 3)\n",
    "    return p, config\n",
    "\n",
    "\n",
    "if __name__ == '__main__':\n",
    "    # Determine path to configuration file. This path manipulation is\n",
    "    # here so that the script will run successfully regardless of the\n",
    "    # current working directory.\n",
    "#     local_dir = os.path.dirname(__file__)\n",
    "#     config_path = os.path.join(local_dir, 'config-feedforward')\n",
    "    p, config = run('config-feedforward')"
   ]
  },
  {
   "cell_type": "code",
   "execution_count": 3,
   "metadata": {},
   "outputs": [
    {
     "data": {
      "text/plain": [
       "{11: <neat.genome.DefaultGenome at 0x1e13afac688>,\n",
       " 7: <neat.genome.DefaultGenome at 0x1e13af9cb88>,\n",
       " 3: <neat.genome.DefaultGenome at 0x1e13af94748>,\n",
       " 13: <neat.genome.DefaultGenome at 0x1e13afac648>,\n",
       " 2: <neat.genome.DefaultGenome at 0x1e13af94248>,\n",
       " 14: <neat.genome.DefaultGenome at 0x1e13afacc08>,\n",
       " 8: <neat.genome.DefaultGenome at 0x1e13afa30c8>,\n",
       " 17: <neat.genome.DefaultGenome at 0x1e13afb0c48>,\n",
       " 15: <neat.genome.DefaultGenome at 0x1e13aface48>,\n",
       " 4: <neat.genome.DefaultGenome at 0x1e13af94c48>,\n",
       " 10: <neat.genome.DefaultGenome at 0x1e13afa3ac8>,\n",
       " 18: <neat.genome.DefaultGenome at 0x1e13afb2508>,\n",
       " 16: <neat.genome.DefaultGenome at 0x1e13afb0708>,\n",
       " 6: <neat.genome.DefaultGenome at 0x1e13af9c688>,\n",
       " 12: <neat.genome.DefaultGenome at 0x1e13afac588>,\n",
       " 9: <neat.genome.DefaultGenome at 0x1e13afa35c8>,\n",
       " 1: <neat.genome.DefaultGenome at 0x1e13af94048>,\n",
       " 19: <neat.genome.DefaultGenome at 0x1e13afb2a88>,\n",
       " 5: <neat.genome.DefaultGenome at 0x1e13af9c188>,\n",
       " 20: <neat.genome.DefaultGenome at 0x1e13afb0908>}"
      ]
     },
     "execution_count": 3,
     "metadata": {},
     "output_type": "execute_result"
    }
   ],
   "source": [
    "p.population"
   ]
  },
  {
   "cell_type": "markdown",
   "metadata": {},
   "source": [
    "### Create Child"
   ]
  },
  {
   "cell_type": "code",
   "execution_count": 8,
   "metadata": {},
   "outputs": [],
   "source": [
    "child = config.genome_type(1)\n",
    "child.configure_crossover(p.population[1], p.population[19], config.genome_config)\n",
    "child.mutate(config.genome_config)"
   ]
  },
  {
   "cell_type": "code",
   "execution_count": null,
   "metadata": {},
   "outputs": [],
   "source": []
  },
  {
   "cell_type": "code",
   "execution_count": 10,
   "metadata": {},
   "outputs": [],
   "source": [
    "# Load configuration.\n",
    "config = neat.Config(neat.DefaultGenome, neat.DefaultReproduction,\n",
    "                     neat.DefaultSpeciesSet, neat.DefaultStagnation,\n",
    "                     'config-feedforward')\n",
    "\n",
    "# Create the population, which is the top-level object for a NEAT run.\n",
    "p = neat.Population(config)"
   ]
  },
  {
   "cell_type": "code",
   "execution_count": 11,
   "metadata": {},
   "outputs": [
    {
     "data": {
      "text/plain": [
       "{1: <neat.genome.DefaultGenome at 0x298e6af1108>,\n",
       " 2: <neat.genome.DefaultGenome at 0x298e6bbeac8>,\n",
       " 3: <neat.genome.DefaultGenome at 0x298e725bf88>,\n",
       " 4: <neat.genome.DefaultGenome at 0x298e726a488>,\n",
       " 5: <neat.genome.DefaultGenome at 0x298e720ca88>,\n",
       " 6: <neat.genome.DefaultGenome at 0x298e726e988>,\n",
       " 7: <neat.genome.DefaultGenome at 0x298e7282988>,\n",
       " 8: <neat.genome.DefaultGenome at 0x298e7294308>,\n",
       " 9: <neat.genome.DefaultGenome at 0x298e728fe08>,\n",
       " 10: <neat.genome.DefaultGenome at 0x298e72100c8>}"
      ]
     },
     "execution_count": 11,
     "metadata": {},
     "output_type": "execute_result"
    }
   ],
   "source": [
    "p.population"
   ]
  },
  {
   "cell_type": "code",
   "execution_count": 13,
   "metadata": {},
   "outputs": [],
   "source": [
    "genome = p.population[1]"
   ]
  },
  {
   "cell_type": "code",
   "execution_count": 21,
   "metadata": {},
   "outputs": [
    {
     "data": {
      "text/plain": [
       "<neat.config.Config at 0x298e6bd39c8>"
      ]
     },
     "execution_count": 21,
     "metadata": {},
     "output_type": "execute_result"
    }
   ],
   "source": [
    "p.config"
   ]
  },
  {
   "cell_type": "code",
   "execution_count": null,
   "metadata": {},
   "outputs": [],
   "source": []
  },
  {
   "cell_type": "code",
   "execution_count": 22,
   "metadata": {},
   "outputs": [],
   "source": [
    "net = neat.nn.FeedForwardNetwork.create(genome, p.config)"
   ]
  },
  {
   "cell_type": "code",
   "execution_count": 39,
   "metadata": {},
   "outputs": [
    {
     "data": {
      "text/plain": [
       "{(-1, 0): <neat.genes.DefaultConnectionGene at 0x298e727ce08>,\n",
       " (-2, 0): <neat.genes.DefaultConnectionGene at 0x298e726ec88>}"
      ]
     },
     "execution_count": 39,
     "metadata": {},
     "output_type": "execute_result"
    }
   ],
   "source": [
    "p.population[4].connections"
   ]
  },
  {
   "cell_type": "code",
   "execution_count": 33,
   "metadata": {},
   "outputs": [
    {
     "data": {
      "text/plain": [
       "{-1: 1, -2: 3, 0: 2.8310618635819293e-20}"
      ]
     },
     "execution_count": 33,
     "metadata": {},
     "output_type": "execute_result"
    }
   ],
   "source": [
    "net.values"
   ]
  },
  {
   "cell_type": "code",
   "execution_count": 32,
   "metadata": {},
   "outputs": [
    {
     "data": {
      "text/plain": [
       "[2.8310618635819293e-20]"
      ]
     },
     "execution_count": 32,
     "metadata": {},
     "output_type": "execute_result"
    }
   ],
   "source": [
    "net.activate((1, 3))"
   ]
  },
  {
   "cell_type": "code",
   "execution_count": null,
   "metadata": {},
   "outputs": [],
   "source": []
  }
 ],
 "metadata": {
  "kernelspec": {
   "display_name": "Python 3",
   "language": "python",
   "name": "python3"
  },
  "language_info": {
   "codemirror_mode": {
    "name": "ipython",
    "version": 3
   },
   "file_extension": ".py",
   "mimetype": "text/x-python",
   "name": "python",
   "nbconvert_exporter": "python",
   "pygments_lexer": "ipython3",
   "version": "3.7.4"
  }
 },
 "nbformat": 4,
 "nbformat_minor": 2
}
