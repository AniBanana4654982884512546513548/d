{
 "cells": [
  {
   "cell_type": "code",
   "execution_count": 1,
   "metadata": {},
   "outputs": [
    {
     "name": "stderr",
     "output_type": "stream",
     "text": [
      "Using TensorFlow backend.\n",
      "c:\\programdata\\miniconda3\\lib\\site-packages\\tensorflow\\python\\framework\\dtypes.py:516: FutureWarning: Passing (type, 1) or '1type' as a synonym of type is deprecated; in a future version of numpy, it will be understood as (type, (1,)) / '(1,)type'.\n",
      "  _np_qint8 = np.dtype([(\"qint8\", np.int8, 1)])\n",
      "c:\\programdata\\miniconda3\\lib\\site-packages\\tensorflow\\python\\framework\\dtypes.py:517: FutureWarning: Passing (type, 1) or '1type' as a synonym of type is deprecated; in a future version of numpy, it will be understood as (type, (1,)) / '(1,)type'.\n",
      "  _np_quint8 = np.dtype([(\"quint8\", np.uint8, 1)])\n",
      "c:\\programdata\\miniconda3\\lib\\site-packages\\tensorflow\\python\\framework\\dtypes.py:518: FutureWarning: Passing (type, 1) or '1type' as a synonym of type is deprecated; in a future version of numpy, it will be understood as (type, (1,)) / '(1,)type'.\n",
      "  _np_qint16 = np.dtype([(\"qint16\", np.int16, 1)])\n",
      "c:\\programdata\\miniconda3\\lib\\site-packages\\tensorflow\\python\\framework\\dtypes.py:519: FutureWarning: Passing (type, 1) or '1type' as a synonym of type is deprecated; in a future version of numpy, it will be understood as (type, (1,)) / '(1,)type'.\n",
      "  _np_quint16 = np.dtype([(\"quint16\", np.uint16, 1)])\n",
      "c:\\programdata\\miniconda3\\lib\\site-packages\\tensorflow\\python\\framework\\dtypes.py:520: FutureWarning: Passing (type, 1) or '1type' as a synonym of type is deprecated; in a future version of numpy, it will be understood as (type, (1,)) / '(1,)type'.\n",
      "  _np_qint32 = np.dtype([(\"qint32\", np.int32, 1)])\n",
      "c:\\programdata\\miniconda3\\lib\\site-packages\\tensorflow\\python\\framework\\dtypes.py:525: FutureWarning: Passing (type, 1) or '1type' as a synonym of type is deprecated; in a future version of numpy, it will be understood as (type, (1,)) / '(1,)type'.\n",
      "  np_resource = np.dtype([(\"resource\", np.ubyte, 1)])\n",
      "c:\\programdata\\miniconda3\\lib\\site-packages\\tensorboard\\compat\\tensorflow_stub\\dtypes.py:541: FutureWarning: Passing (type, 1) or '1type' as a synonym of type is deprecated; in a future version of numpy, it will be understood as (type, (1,)) / '(1,)type'.\n",
      "  _np_qint8 = np.dtype([(\"qint8\", np.int8, 1)])\n",
      "c:\\programdata\\miniconda3\\lib\\site-packages\\tensorboard\\compat\\tensorflow_stub\\dtypes.py:542: FutureWarning: Passing (type, 1) or '1type' as a synonym of type is deprecated; in a future version of numpy, it will be understood as (type, (1,)) / '(1,)type'.\n",
      "  _np_quint8 = np.dtype([(\"quint8\", np.uint8, 1)])\n",
      "c:\\programdata\\miniconda3\\lib\\site-packages\\tensorboard\\compat\\tensorflow_stub\\dtypes.py:543: FutureWarning: Passing (type, 1) or '1type' as a synonym of type is deprecated; in a future version of numpy, it will be understood as (type, (1,)) / '(1,)type'.\n",
      "  _np_qint16 = np.dtype([(\"qint16\", np.int16, 1)])\n",
      "c:\\programdata\\miniconda3\\lib\\site-packages\\tensorboard\\compat\\tensorflow_stub\\dtypes.py:544: FutureWarning: Passing (type, 1) or '1type' as a synonym of type is deprecated; in a future version of numpy, it will be understood as (type, (1,)) / '(1,)type'.\n",
      "  _np_quint16 = np.dtype([(\"quint16\", np.uint16, 1)])\n",
      "c:\\programdata\\miniconda3\\lib\\site-packages\\tensorboard\\compat\\tensorflow_stub\\dtypes.py:545: FutureWarning: Passing (type, 1) or '1type' as a synonym of type is deprecated; in a future version of numpy, it will be understood as (type, (1,)) / '(1,)type'.\n",
      "  _np_qint32 = np.dtype([(\"qint32\", np.int32, 1)])\n",
      "c:\\programdata\\miniconda3\\lib\\site-packages\\tensorboard\\compat\\tensorflow_stub\\dtypes.py:550: FutureWarning: Passing (type, 1) or '1type' as a synonym of type is deprecated; in a future version of numpy, it will be understood as (type, (1,)) / '(1,)type'.\n",
      "  np_resource = np.dtype([(\"resource\", np.ubyte, 1)])\n"
     ]
    },
    {
     "name": "stdout",
     "output_type": "stream",
     "text": [
      "pygame 1.9.6\n",
      "Hello from the pygame community. https://www.pygame.org/contribute.html\n"
     ]
    },
    {
     "name": "stderr",
     "output_type": "stream",
     "text": [
      " 26%|████████████████████▏                                                         | 388/1501 [00:04<00:09, 112.37it/s]c:\\programdata\\miniconda3\\lib\\site-packages\\numpy\\core\\fromnumeric.py:3257: RuntimeWarning: Mean of empty slice.\n",
      "  out=out, **kwargs)\n",
      "c:\\programdata\\miniconda3\\lib\\site-packages\\numpy\\core\\_methods.py:161: RuntimeWarning: invalid value encountered in double_scalars\n",
      "  ret = ret.dtype.type(ret / rcount)\n",
      " 67%|████████████████████████████████████████████████████▍                         | 1010/1501 [00:12<00:09, 49.67it/s]C:\\Users\\Maarten\\Documents\\Projects\\TheGame\\TheGame\\Models\\PERD3QN.py:50: RuntimeWarning: overflow encountered in power\n",
      "  weights = (len(self.memory) * probs[indices]) ** (- self.beta)\n",
      "C:\\Users\\Maarten\\Documents\\Projects\\TheGame\\TheGame\\Models\\PERD3QN.py:53: RuntimeWarning: invalid value encountered in true_divide\n",
      "  weights = weights / np.max(weights)\n",
      "100%|██████████████████████████████████████████████████████████████████████████████| 1501/1501 [00:21<00:00, 68.94it/s]\n"
     ]
    },
    {
     "name": "stdout",
     "output_type": "stream",
     "text": [
      "The following directories were created: \n",
      "* C:\\Users\\Maarten\\Documents\\Projects\\TheGame\\Experiments\\2020-04-23_V3\n",
      "* C:\\Users\\Maarten\\Documents\\Projects\\TheGame\\Experiments\\2020-04-23_V3\\PERD3QN\n",
      "\n",
      "################\n",
      "Save Successful!\n",
      "################\n"
     ]
    }
   ],
   "source": [
    "from TheGame.Models import PERD3QN\n",
    "from TheGame import trainer\n",
    "\n",
    "n_episodes = 1_500\n",
    "\n",
    "brains = [PERD3QN(153, 8),\n",
    "          PERD3QN(153, 8),\n",
    "          PERD3QN(153, 8)]\n",
    "\n",
    "env = trainer(brains, n_episodes=n_episodes, print_interval=100, width=30, height=30, max_agents=100,\n",
    "        visualize_results=False, google_colab=False, render=False, families=True, training=True, save=True)"
   ]
  },
  {
   "cell_type": "code",
   "execution_count": null,
   "metadata": {},
   "outputs": [],
   "source": []
  },
  {
   "cell_type": "code",
   "execution_count": 11,
   "metadata": {},
   "outputs": [],
   "source": [
    "import os\n",
    "from datetime import date\n"
   ]
  },
  {
   "cell_type": "code",
   "execution_count": 12,
   "metadata": {},
   "outputs": [],
   "source": [
    "main_folder = os.getcwd() + \"\\\\\" + \"Experiments\"\n"
   ]
  },
  {
   "cell_type": "code",
   "execution_count": 20,
   "metadata": {},
   "outputs": [],
   "source": [
    "def get_int(a_string):\n",
    "    \"\"\" Get all integers in a string \"\"\"\n",
    "    return int(\"\".join([s for s in a_string if s.isdigit()]))"
   ]
  },
  {
   "cell_type": "code",
   "execution_count": 23,
   "metadata": {},
   "outputs": [],
   "source": [
    "today = str(date.today())\n",
    "experiment_path = main_folder + \"\\\\\" + today + \"_V1\"\n",
    "if os.path.exists(experiment_path):\n",
    "    paths = [path for path in os.listdir(main_folder) if today in path]\n",
    "    index = str(max([get_int(path.split(\"V\")[-1]) for path in paths]) + 1)\n",
    "    experiment_path = experiment_path[:-1] + index"
   ]
  },
  {
   "cell_type": "code",
   "execution_count": 24,
   "metadata": {},
   "outputs": [
    {
     "data": {
      "text/plain": [
       "'C:\\\\Users\\\\Maarten\\\\Documents\\\\Projects\\\\TheGame\\\\Experiments\\\\2020-04-23_V2'"
      ]
     },
     "execution_count": 24,
     "metadata": {},
     "output_type": "execute_result"
    }
   ],
   "source": [
    "experiment_path"
   ]
  },
  {
   "cell_type": "code",
   "execution_count": 18,
   "metadata": {},
   "outputs": [
    {
     "data": {
      "text/plain": [
       "'C:\\\\Users\\\\Maarten\\\\Documents\\\\Projects\\\\TheGame\\\\Experiments\\\\2020-04-23'"
      ]
     },
     "execution_count": 18,
     "metadata": {},
     "output_type": "execute_result"
    }
   ],
   "source": [
    "experiment_path[:-3]"
   ]
  },
  {
   "cell_type": "code",
   "execution_count": 16,
   "metadata": {},
   "outputs": [
    {
     "data": {
      "text/plain": [
       "['2020-04-22_V1',\n",
       " '2020-04-22_V2',\n",
       " '2020-04-22_V3',\n",
       " '2020-04-22_V4',\n",
       " '2020-04-22_V5',\n",
       " '2020-04-22_V6',\n",
       " '2020-04-22_V7',\n",
       " '2020-04-22_V8',\n",
       " '2020-04-23_V1']"
      ]
     },
     "execution_count": 16,
     "metadata": {},
     "output_type": "execute_result"
    }
   ],
   "source": [
    "os.listdir(main_folder)"
   ]
  },
  {
   "cell_type": "code",
   "execution_count": 3,
   "metadata": {},
   "outputs": [],
   "source": [
    "import json"
   ]
  },
  {
   "cell_type": "code",
   "execution_count": 9,
   "metadata": {},
   "outputs": [],
   "source": [
    "import json\n",
    "with open(\"file.json\", \"w\") as f:\n",
    "    json.dump(env.results.results, f, indent=4)"
   ]
  },
  {
   "cell_type": "code",
   "execution_count": null,
   "metadata": {},
   "outputs": [],
   "source": [
    "import json\n",
    "with open(\"file.json\", \"w\") as f:\n",
    "    json.dump(env.results.results, f, indent=4)"
   ]
  },
  {
   "cell_type": "code",
   "execution_count": 10,
   "metadata": {},
   "outputs": [],
   "source": [
    "with open(\"file.json\", 'r') as f:\n",
    "    datastore = json.load(f)"
   ]
  },
  {
   "cell_type": "code",
   "execution_count": 11,
   "metadata": {},
   "outputs": [
    {
     "data": {
      "text/plain": [
       "{'Avg Population Size': {'0': [2.6956521739130435,\n",
       "   2.130952380952381,\n",
       "   5.69,\n",
       "   1.9636363636363636,\n",
       "   1.4285714285714286,\n",
       "   1.3333333333333333,\n",
       "   3.269230769230769,\n",
       "   1.7682926829268293,\n",
       "   1.3103448275862069,\n",
       "   1.4285714285714286],\n",
       "  '1': [1.0724637681159421,\n",
       "   1.0263157894736843,\n",
       "   1.625,\n",
       "   1.2790697674418605,\n",
       "   2.0,\n",
       "   2.0759493670886076,\n",
       "   1.0526315789473684,\n",
       "   nan,\n",
       "   1.5686274509803921,\n",
       "   nan],\n",
       "  '2': [1.8172043010752688,\n",
       "   1.7741935483870968,\n",
       "   8.626506024096386,\n",
       "   10.48,\n",
       "   1.588235294117647,\n",
       "   nan,\n",
       "   1.0,\n",
       "   2.1538461538461537,\n",
       "   1.681159420289855,\n",
       "   2.8055555555555554]},\n",
       " 'Avg Population Age': {'0': [13.282125603864735,\n",
       "   9.666269841269841,\n",
       "   10.877732323232324,\n",
       "   11.85757575757576,\n",
       "   10.642857142857142,\n",
       "   10.5,\n",
       "   8.522435897435896,\n",
       "   10.838414634146341,\n",
       "   9.724137931034482,\n",
       "   12.46031746031746],\n",
       "  '1': [10.818840579710145,\n",
       "   12.092105263157896,\n",
       "   11.519965277777777,\n",
       "   12.813953488372093,\n",
       "   7.116666666666667,\n",
       "   12.83860759493671,\n",
       "   10.5,\n",
       "   nan,\n",
       "   10.549019607843137,\n",
       "   nan],\n",
       "  '2': [10.670250896057349,\n",
       "   12.887096774193548,\n",
       "   9.573993509836882,\n",
       "   11.149614749457626,\n",
       "   17.254901960784316,\n",
       "   nan,\n",
       "   12.0,\n",
       "   10.106837606837606,\n",
       "   10.944444444444446,\n",
       "   9.482870370370371]},\n",
       " 'Avg Population Fitness': {'0': [0.2763223443223443,\n",
       "   0.1873592214663643,\n",
       "   0.23667378280272106,\n",
       "   0.04822756066766714,\n",
       "   0.16363636363636364,\n",
       "   0.13793103448275862,\n",
       "   0.5564102564102564,\n",
       "   0.259375,\n",
       "   0.14285714285714285,\n",
       "   0.12195121951219512],\n",
       "  '1': [0.0029850746268656717,\n",
       "   0.0,\n",
       "   0.03499407253538119,\n",
       "   0.01208687327165588,\n",
       "   0.30833333333333335,\n",
       "   0.33226495726495725,\n",
       "   0.00909090909090909,\n",
       "   nan,\n",
       "   0.17800453514739228,\n",
       "   nan],\n",
       "  '2': [0.13834776334776333,\n",
       "   0.17624521072796934,\n",
       "   0.22900330529411586,\n",
       "   0.6000771208983786,\n",
       "   0.1875,\n",
       "   nan,\n",
       "   0.0,\n",
       "   0.32657657657657657,\n",
       "   0.20646766169154226,\n",
       "   0.45435185185185184]},\n",
       " 'Best Population Age': {'0': [21.507246376811594,\n",
       "   12.785714285714286,\n",
       "   18.16,\n",
       "   14.981818181818182,\n",
       "   11.571428571428571,\n",
       "   12.166666666666666,\n",
       "   12.115384615384615,\n",
       "   13.560975609756097,\n",
       "   10.655172413793103,\n",
       "   14.142857142857142],\n",
       "  '1': [11.420289855072463,\n",
       "   12.342105263157896,\n",
       "   13.552083333333334,\n",
       "   13.790697674418604,\n",
       "   10.5,\n",
       "   16.430379746835442,\n",
       "   10.947368421052632,\n",
       "   nan,\n",
       "   13.117647058823529,\n",
       "   nan],\n",
       "  '2': [13.419354838709678,\n",
       "   15.774193548387096,\n",
       "   18.048192771084338,\n",
       "   20.58,\n",
       "   18.58823529411765,\n",
       "   nan,\n",
       "   12.0,\n",
       "   12.153846153846153,\n",
       "   13.492753623188406,\n",
       "   14.055555555555555]},\n",
       " 'Avg Number of Attacks': {'0': [0.6053140096618357,\n",
       "   0.8744047619047619,\n",
       "   0.9525588023088022,\n",
       "   0.9393939393939393,\n",
       "   0.9821428571428571,\n",
       "   0.95,\n",
       "   1.0,\n",
       "   0.9898373983739837,\n",
       "   0.9827586206896551,\n",
       "   0.9523809523809523],\n",
       "  '1': [0.6884057971014492,\n",
       "   0.9210526315789473,\n",
       "   0.9383680555555557,\n",
       "   0.8604651162790697,\n",
       "   0.9666666666666666,\n",
       "   0.9419831223628693,\n",
       "   0.9649122807017544,\n",
       "   nan,\n",
       "   0.9738562091503268,\n",
       "   nan],\n",
       "  '2': [0.6899641577060931,\n",
       "   0.8924731182795698,\n",
       "   0.8869772463145956,\n",
       "   0.9701225780153798,\n",
       "   0.9705882352941176,\n",
       "   nan,\n",
       "   0.9565217391304348,\n",
       "   0.985042735042735,\n",
       "   0.9710144927536232,\n",
       "   0.9930555555555556]},\n",
       " 'Avg Number of Kills': {'0': [0.0,\n",
       "   0.0,\n",
       "   0.01,\n",
       "   0.0,\n",
       "   0.0,\n",
       "   0.0,\n",
       "   0.0,\n",
       "   0.0,\n",
       "   0.0,\n",
       "   0.0],\n",
       "  '1': [0.0, 0.0, 0.02, 0.0, 0.0, 0.0, 0.0, 0.0, 0.0, 0.0],\n",
       "  '2': [0.0, 0.0, 0.04, 0.0, 0.0, 0.0, 0.0, 0.0, 0.0, 0.015384615384615385]},\n",
       " 'Avg Number of Intra Kills': {'0': [0.0,\n",
       "   0.0,\n",
       "   0.01,\n",
       "   0.0,\n",
       "   0.0,\n",
       "   0.0,\n",
       "   0.0,\n",
       "   0.0,\n",
       "   0.0,\n",
       "   0.0],\n",
       "  '1': [0.0, 0.0, 0.02, 0.0, 0.0, 0.0, 0.0, 0.0, 0.0, 0.0],\n",
       "  '2': [0.0, 0.0, 0.04, 0.0, 0.0, 0.0, 0.0, 0.0, 0.0, 0.015384615384615385]},\n",
       " 'Avg Number of Populations': [2.31,\n",
       "  1.53,\n",
       "  2.79,\n",
       "  1.98,\n",
       "  1.273972602739726,\n",
       "  1.101010101010101,\n",
       "  1.3766233766233766,\n",
       "  1.2736842105263158,\n",
       "  1.49,\n",
       "  1.2]}"
      ]
     },
     "execution_count": 11,
     "metadata": {},
     "output_type": "execute_result"
    }
   ],
   "source": [
    "datastore"
   ]
  },
  {
   "cell_type": "code",
   "execution_count": null,
   "metadata": {},
   "outputs": [],
   "source": []
  },
  {
   "cell_type": "code",
   "execution_count": 2,
   "metadata": {},
   "outputs": [
    {
     "data": {
      "text/plain": [
       "{'Avg Population Size': {0: [2.6956521739130435,\n",
       "   2.130952380952381,\n",
       "   5.69,\n",
       "   1.9636363636363636,\n",
       "   1.4285714285714286,\n",
       "   1.3333333333333333,\n",
       "   3.269230769230769,\n",
       "   1.7682926829268293,\n",
       "   1.3103448275862069,\n",
       "   1.4285714285714286],\n",
       "  1: [1.0724637681159421,\n",
       "   1.0263157894736843,\n",
       "   1.625,\n",
       "   1.2790697674418605,\n",
       "   2.0,\n",
       "   2.0759493670886076,\n",
       "   1.0526315789473684,\n",
       "   nan,\n",
       "   1.5686274509803921,\n",
       "   nan],\n",
       "  2: [1.8172043010752688,\n",
       "   1.7741935483870968,\n",
       "   8.626506024096386,\n",
       "   10.48,\n",
       "   1.588235294117647,\n",
       "   nan,\n",
       "   1.0,\n",
       "   2.1538461538461537,\n",
       "   1.681159420289855,\n",
       "   2.8055555555555554]},\n",
       " 'Avg Population Age': {0: [13.282125603864735,\n",
       "   9.666269841269841,\n",
       "   10.877732323232324,\n",
       "   11.85757575757576,\n",
       "   10.642857142857142,\n",
       "   10.5,\n",
       "   8.522435897435896,\n",
       "   10.838414634146341,\n",
       "   9.724137931034482,\n",
       "   12.46031746031746],\n",
       "  1: [10.818840579710145,\n",
       "   12.092105263157896,\n",
       "   11.519965277777777,\n",
       "   12.813953488372093,\n",
       "   7.116666666666667,\n",
       "   12.83860759493671,\n",
       "   10.5,\n",
       "   nan,\n",
       "   10.549019607843137,\n",
       "   nan],\n",
       "  2: [10.670250896057349,\n",
       "   12.887096774193548,\n",
       "   9.573993509836882,\n",
       "   11.149614749457626,\n",
       "   17.254901960784316,\n",
       "   nan,\n",
       "   12.0,\n",
       "   10.106837606837606,\n",
       "   10.944444444444446,\n",
       "   9.482870370370371]},\n",
       " 'Avg Population Fitness': {0: [0.2763223443223443,\n",
       "   0.1873592214663643,\n",
       "   0.23667378280272106,\n",
       "   0.04822756066766714,\n",
       "   0.16363636363636364,\n",
       "   0.13793103448275862,\n",
       "   0.5564102564102564,\n",
       "   0.259375,\n",
       "   0.14285714285714285,\n",
       "   0.12195121951219512],\n",
       "  1: [0.0029850746268656717,\n",
       "   0.0,\n",
       "   0.03499407253538119,\n",
       "   0.01208687327165588,\n",
       "   0.30833333333333335,\n",
       "   0.33226495726495725,\n",
       "   0.00909090909090909,\n",
       "   nan,\n",
       "   0.17800453514739228,\n",
       "   nan],\n",
       "  2: [0.13834776334776333,\n",
       "   0.17624521072796934,\n",
       "   0.22900330529411586,\n",
       "   0.6000771208983786,\n",
       "   0.1875,\n",
       "   nan,\n",
       "   0.0,\n",
       "   0.32657657657657657,\n",
       "   0.20646766169154226,\n",
       "   0.45435185185185184]},\n",
       " 'Best Population Age': {0: [21.507246376811594,\n",
       "   12.785714285714286,\n",
       "   18.16,\n",
       "   14.981818181818182,\n",
       "   11.571428571428571,\n",
       "   12.166666666666666,\n",
       "   12.115384615384615,\n",
       "   13.560975609756097,\n",
       "   10.655172413793103,\n",
       "   14.142857142857142],\n",
       "  1: [11.420289855072463,\n",
       "   12.342105263157896,\n",
       "   13.552083333333334,\n",
       "   13.790697674418604,\n",
       "   10.5,\n",
       "   16.430379746835442,\n",
       "   10.947368421052632,\n",
       "   nan,\n",
       "   13.117647058823529,\n",
       "   nan],\n",
       "  2: [13.419354838709678,\n",
       "   15.774193548387096,\n",
       "   18.048192771084338,\n",
       "   20.58,\n",
       "   18.58823529411765,\n",
       "   nan,\n",
       "   12.0,\n",
       "   12.153846153846153,\n",
       "   13.492753623188406,\n",
       "   14.055555555555555]},\n",
       " 'Avg Number of Attacks': {0: [0.6053140096618357,\n",
       "   0.8744047619047619,\n",
       "   0.9525588023088022,\n",
       "   0.9393939393939393,\n",
       "   0.9821428571428571,\n",
       "   0.95,\n",
       "   1.0,\n",
       "   0.9898373983739837,\n",
       "   0.9827586206896551,\n",
       "   0.9523809523809523],\n",
       "  1: [0.6884057971014492,\n",
       "   0.9210526315789473,\n",
       "   0.9383680555555557,\n",
       "   0.8604651162790697,\n",
       "   0.9666666666666666,\n",
       "   0.9419831223628693,\n",
       "   0.9649122807017544,\n",
       "   nan,\n",
       "   0.9738562091503268,\n",
       "   nan],\n",
       "  2: [0.6899641577060931,\n",
       "   0.8924731182795698,\n",
       "   0.8869772463145956,\n",
       "   0.9701225780153798,\n",
       "   0.9705882352941176,\n",
       "   nan,\n",
       "   0.9565217391304348,\n",
       "   0.985042735042735,\n",
       "   0.9710144927536232,\n",
       "   0.9930555555555556]},\n",
       " 'Avg Number of Kills': {0: [0.0,\n",
       "   0.0,\n",
       "   0.01,\n",
       "   0.0,\n",
       "   0.0,\n",
       "   0.0,\n",
       "   0.0,\n",
       "   0.0,\n",
       "   0.0,\n",
       "   0.0],\n",
       "  1: [0.0, 0.0, 0.02, 0.0, 0.0, 0.0, 0.0, 0.0, 0.0, 0.0],\n",
       "  2: [0.0, 0.0, 0.04, 0.0, 0.0, 0.0, 0.0, 0.0, 0.0, 0.015384615384615385]},\n",
       " 'Avg Number of Intra Kills': {0: [0.0,\n",
       "   0.0,\n",
       "   0.01,\n",
       "   0.0,\n",
       "   0.0,\n",
       "   0.0,\n",
       "   0.0,\n",
       "   0.0,\n",
       "   0.0,\n",
       "   0.0],\n",
       "  1: [0.0, 0.0, 0.02, 0.0, 0.0, 0.0, 0.0, 0.0, 0.0, 0.0],\n",
       "  2: [0.0, 0.0, 0.04, 0.0, 0.0, 0.0, 0.0, 0.0, 0.0, 0.015384615384615385]},\n",
       " 'Avg Number of Populations': [2.31,\n",
       "  1.53,\n",
       "  2.79,\n",
       "  1.98,\n",
       "  1.273972602739726,\n",
       "  1.101010101010101,\n",
       "  1.3766233766233766,\n",
       "  1.2736842105263158,\n",
       "  1.49,\n",
       "  1.2]}"
      ]
     },
     "execution_count": 2,
     "metadata": {},
     "output_type": "execute_result"
    }
   ],
   "source": []
  },
  {
   "cell_type": "code",
   "execution_count": null,
   "metadata": {},
   "outputs": [],
   "source": []
  },
  {
   "cell_type": "code",
   "execution_count": 17,
   "metadata": {},
   "outputs": [],
   "source": [
    "test = {1: None, 2: None, 5: None, 3: None}"
   ]
  },
  {
   "cell_type": "code",
   "execution_count": 24,
   "metadata": {},
   "outputs": [],
   "source": [
    "\n",
    "for i in range(3):\n",
    "    for j in range(3):"
   ]
  },
  {
   "cell_type": "code",
   "execution_count": 25,
   "metadata": {},
   "outputs": [
    {
     "ename": "ValueError",
     "evalue": "cannot reshape array of size 4 into shape (2,4)",
     "output_type": "error",
     "traceback": [
      "\u001b[1;31m---------------------------------------------------------------------------\u001b[0m",
      "\u001b[1;31mValueError\u001b[0m                                Traceback (most recent call last)",
      "\u001b[1;32m<ipython-input-25-1f479ad2c580>\u001b[0m in \u001b[0;36m<module>\u001b[1;34m\u001b[0m\n\u001b[0;32m      1\u001b[0m \u001b[0mshape\u001b[0m \u001b[1;33m=\u001b[0m \u001b[1;33m(\u001b[0m \u001b[1;36m2\u001b[0m\u001b[1;33m,\u001b[0m \u001b[1;36m4\u001b[0m \u001b[1;33m)\u001b[0m\u001b[1;33m\u001b[0m\u001b[1;33m\u001b[0m\u001b[0m\n\u001b[1;32m----> 2\u001b[1;33m \u001b[0morder\u001b[0m\u001b[1;33m.\u001b[0m\u001b[0mreshape\u001b[0m\u001b[1;33m(\u001b[0m \u001b[0mshape\u001b[0m \u001b[1;33m)\u001b[0m\u001b[1;33m\u001b[0m\u001b[1;33m\u001b[0m\u001b[0m\n\u001b[0m",
      "\u001b[1;31mValueError\u001b[0m: cannot reshape array of size 4 into shape (2,4)"
     ]
    }
   ],
   "source": [
    "shape = ( 2, 4 )\n",
    "order.reshape( shape )"
   ]
  },
  {
   "cell_type": "code",
   "execution_count": 37,
   "metadata": {},
   "outputs": [],
   "source": [
    "data = list(test.keys())\n",
    "col = 3"
   ]
  },
  {
   "cell_type": "code",
   "execution_count": 51,
   "metadata": {},
   "outputs": [],
   "source": [
    "def get_val(data, i, col):\n",
    "    length = len(data[i:i+col])\n",
    "    if length == col:\n",
    "        return data[i:i+col]\n",
    "    elif length > 0:\n",
    "        return data[i:i+col] + [False for _ in range(col - length)]\n",
    "    else:\n",
    "        return [False for _ in range(col)]"
   ]
  },
  {
   "cell_type": "code",
   "execution_count": 53,
   "metadata": {},
   "outputs": [],
   "source": [
    "result = [get_val(data, i, col) for i in range(0, col**2, col)]"
   ]
  },
  {
   "cell_type": "code",
   "execution_count": 55,
   "metadata": {},
   "outputs": [
    {
     "data": {
      "text/plain": [
       "[[1, 2, 5], [3, False, False], [False, False, False]]"
      ]
     },
     "execution_count": 55,
     "metadata": {},
     "output_type": "execute_result"
    }
   ],
   "source": [
    "result"
   ]
  },
  {
   "cell_type": "code",
   "execution_count": 56,
   "metadata": {},
   "outputs": [
    {
     "name": "stdout",
     "output_type": "stream",
     "text": [
      "0 0 [1, 2, 5] 1\n",
      "0 1 [1, 2, 5] 2\n",
      "0 2 [1, 2, 5] 5\n",
      "1 0 [3, False, False] 3\n",
      "1 1 [3, False, False] False\n",
      "1 2 [3, False, False] False\n",
      "2 0 [False, False, False] False\n",
      "2 1 [False, False, False] False\n",
      "2 2 [False, False, False] False\n"
     ]
    }
   ],
   "source": [
    "for i, j in enumerate(result):\n",
    "    for k, m in enumerate(result[i]):\n",
    "        print(i, k, j, m)"
   ]
  },
  {
   "cell_type": "code",
   "execution_count": 48,
   "metadata": {},
   "outputs": [
    {
     "data": {
      "text/plain": [
       "[5, 3, None]"
      ]
     },
     "execution_count": 48,
     "metadata": {},
     "output_type": "execute_result"
    }
   ],
   "source": [
    "data[i:i+col] + [None]"
   ]
  },
  {
   "cell_type": "code",
   "execution_count": 3,
   "metadata": {},
   "outputs": [],
   "source": [
    "from TheGame import Environment\n",
    "from tqdm import tqdm\n",
    "\n",
    "from TheGame.Models import A2C, D3QN, DRQN, DQN, PERDQN, PERD3QN, PPO\n",
    "from TheGame.Trainer import trainer"
   ]
  },
  {
   "cell_type": "code",
   "execution_count": 8,
   "metadata": {},
   "outputs": [],
   "source": [
    "def test():\n",
    "    brains = [PERD3QN(153, 8, exploration=0),\n",
    "              PERD3QN(153, 8, exploration=0),\n",
    "              PERD3QN(153, 8, exploration=0)]\n",
    "    brains, \n",
    "    n_episodes=100\n",
    "    width=30\n",
    "    height=30\n",
    "    visualize_results=False\n",
    "    google_colab=False\n",
    "    print_interval=500\n",
    "    max_agents=100\n",
    "    render=False\n",
    "    families=True\n",
    "    training=True\n",
    "    save=True\n",
    "\n",
    "    env = Environment(width=width, height=height, evolution=True, max_agents=max_agents, brains=brains, grid_size=24,\n",
    "                      families=families, print_interval=print_interval, interactive_results=visualize_results,\n",
    "                      google_colab=google_colab, training=training)\n",
    "    env.reset()\n",
    "\n",
    "    for n_epi in tqdm(range(n_episodes)):\n",
    "\n",
    "        # Get actions for each brain\n",
    "        for agent in env.agents:\n",
    "            agent.get_action(n_epi)\n",
    "\n",
    "        # Execute all actions\n",
    "        env.step()\n",
    "\n",
    "        # Learn what the result is\n",
    "        for agent in env.agents:\n",
    "            agent.learn(n_epi=n_epi)\n",
    "\n",
    "        # Clean up environment, remove dead agents, reproduce, etc.\n",
    "        env.update_env(n_epi)\n"
   ]
  },
  {
   "cell_type": "code",
   "execution_count": 1,
   "metadata": {
    "scrolled": true
   },
   "outputs": [
    {
     "name": "stderr",
     "output_type": "stream",
     "text": [
      "Using TensorFlow backend.\n",
      "c:\\programdata\\miniconda3\\lib\\site-packages\\tensorflow\\python\\framework\\dtypes.py:516: FutureWarning: Passing (type, 1) or '1type' as a synonym of type is deprecated; in a future version of numpy, it will be understood as (type, (1,)) / '(1,)type'.\n",
      "  _np_qint8 = np.dtype([(\"qint8\", np.int8, 1)])\n",
      "c:\\programdata\\miniconda3\\lib\\site-packages\\tensorflow\\python\\framework\\dtypes.py:517: FutureWarning: Passing (type, 1) or '1type' as a synonym of type is deprecated; in a future version of numpy, it will be understood as (type, (1,)) / '(1,)type'.\n",
      "  _np_quint8 = np.dtype([(\"quint8\", np.uint8, 1)])\n",
      "c:\\programdata\\miniconda3\\lib\\site-packages\\tensorflow\\python\\framework\\dtypes.py:518: FutureWarning: Passing (type, 1) or '1type' as a synonym of type is deprecated; in a future version of numpy, it will be understood as (type, (1,)) / '(1,)type'.\n",
      "  _np_qint16 = np.dtype([(\"qint16\", np.int16, 1)])\n",
      "c:\\programdata\\miniconda3\\lib\\site-packages\\tensorflow\\python\\framework\\dtypes.py:519: FutureWarning: Passing (type, 1) or '1type' as a synonym of type is deprecated; in a future version of numpy, it will be understood as (type, (1,)) / '(1,)type'.\n",
      "  _np_quint16 = np.dtype([(\"quint16\", np.uint16, 1)])\n",
      "c:\\programdata\\miniconda3\\lib\\site-packages\\tensorflow\\python\\framework\\dtypes.py:520: FutureWarning: Passing (type, 1) or '1type' as a synonym of type is deprecated; in a future version of numpy, it will be understood as (type, (1,)) / '(1,)type'.\n",
      "  _np_qint32 = np.dtype([(\"qint32\", np.int32, 1)])\n",
      "c:\\programdata\\miniconda3\\lib\\site-packages\\tensorflow\\python\\framework\\dtypes.py:525: FutureWarning: Passing (type, 1) or '1type' as a synonym of type is deprecated; in a future version of numpy, it will be understood as (type, (1,)) / '(1,)type'.\n",
      "  np_resource = np.dtype([(\"resource\", np.ubyte, 1)])\n",
      "c:\\programdata\\miniconda3\\lib\\site-packages\\tensorboard\\compat\\tensorflow_stub\\dtypes.py:541: FutureWarning: Passing (type, 1) or '1type' as a synonym of type is deprecated; in a future version of numpy, it will be understood as (type, (1,)) / '(1,)type'.\n",
      "  _np_qint8 = np.dtype([(\"qint8\", np.int8, 1)])\n",
      "c:\\programdata\\miniconda3\\lib\\site-packages\\tensorboard\\compat\\tensorflow_stub\\dtypes.py:542: FutureWarning: Passing (type, 1) or '1type' as a synonym of type is deprecated; in a future version of numpy, it will be understood as (type, (1,)) / '(1,)type'.\n",
      "  _np_quint8 = np.dtype([(\"quint8\", np.uint8, 1)])\n",
      "c:\\programdata\\miniconda3\\lib\\site-packages\\tensorboard\\compat\\tensorflow_stub\\dtypes.py:543: FutureWarning: Passing (type, 1) or '1type' as a synonym of type is deprecated; in a future version of numpy, it will be understood as (type, (1,)) / '(1,)type'.\n",
      "  _np_qint16 = np.dtype([(\"qint16\", np.int16, 1)])\n",
      "c:\\programdata\\miniconda3\\lib\\site-packages\\tensorboard\\compat\\tensorflow_stub\\dtypes.py:544: FutureWarning: Passing (type, 1) or '1type' as a synonym of type is deprecated; in a future version of numpy, it will be understood as (type, (1,)) / '(1,)type'.\n",
      "  _np_quint16 = np.dtype([(\"quint16\", np.uint16, 1)])\n",
      "c:\\programdata\\miniconda3\\lib\\site-packages\\tensorboard\\compat\\tensorflow_stub\\dtypes.py:545: FutureWarning: Passing (type, 1) or '1type' as a synonym of type is deprecated; in a future version of numpy, it will be understood as (type, (1,)) / '(1,)type'.\n",
      "  _np_qint32 = np.dtype([(\"qint32\", np.int32, 1)])\n",
      "c:\\programdata\\miniconda3\\lib\\site-packages\\tensorboard\\compat\\tensorflow_stub\\dtypes.py:550: FutureWarning: Passing (type, 1) or '1type' as a synonym of type is deprecated; in a future version of numpy, it will be understood as (type, (1,)) / '(1,)type'.\n",
      "  np_resource = np.dtype([(\"resource\", np.ubyte, 1)])\n"
     ]
    },
    {
     "name": "stdout",
     "output_type": "stream",
     "text": [
      "pygame 1.9.6\n",
      "Hello from the pygame community. https://www.pygame.org/contribute.html\n"
     ]
    },
    {
     "name": "stderr",
     "output_type": "stream",
     "text": [
      "100%|█████████████████████████████████████████████████████████████████████████████| 1000/1000 [00:08<00:00, 118.16it/s]\n"
     ]
    }
   ],
   "source": [
    "from TheGame.Models import A2C, D3QN, DRQN, DQN, PERDQN, PERD3QN, PPO\n",
    "from TheGame.Trainer import trainer\n",
    "\n",
    "n_episodes = 1_000\n",
    "\n",
    "brains = [PERD3QN(153, 8),\n",
    "          PERD3QN(153, 8),\n",
    "          PERD3QN(153, 8)]\n",
    "\n",
    "env = trainer(brains, n_episodes=n_episodes, print_interval=500, width=30, height=30, max_agents=100,\n",
    "        visualize_results=False, google_colab=False, render=False, families=True, training=True, save=False)"
   ]
  },
  {
   "cell_type": "code",
   "execution_count": 2,
   "metadata": {},
   "outputs": [
    {
     "data": {
      "text/plain": [
       "<TheGame.Results.Tracker at 0x1e5c5fc5208>"
      ]
     },
     "execution_count": 2,
     "metadata": {},
     "output_type": "execute_result"
    }
   ],
   "source": [
    "env.results."
   ]
  },
  {
   "cell_type": "code",
   "execution_count": 2,
   "metadata": {},
   "outputs": [],
   "source": [
    "saver = Saver('Experiments')"
   ]
  },
  {
   "cell_type": "code",
   "execution_count": 3,
   "metadata": {},
   "outputs": [
    {
     "name": "stdout",
     "output_type": "stream",
     "text": [
      "The following directories were created: \n",
      "* C:\\Users\\Maarten\\Documents\\Projects\\TheGame\\Experiment\\2020-04-22_V3\n",
      "* C:\\Users\\Maarten\\Documents\\Projects\\TheGame\\Experiment\\2020-04-22_V3\\DRQN\n",
      "* C:\\Users\\Maarten\\Documents\\Projects\\TheGame\\Experiment\\2020-04-22_V3\\PERD3QN\n",
      "* C:\\Users\\Maarten\\Documents\\Projects\\TheGame\\Experiment\\2020-04-22_V3\\PPO\n",
      "\n"
     ]
    }
   ],
   "source": [
    "saver.save(agents)"
   ]
  },
  {
   "cell_type": "code",
   "execution_count": 4,
   "metadata": {},
   "outputs": [
    {
     "data": {
      "text/plain": [
       "'C:\\\\Users\\\\Maarten\\\\Documents\\\\Projects\\\\TheGame\\\\brains_new111'"
      ]
     },
     "execution_count": 4,
     "metadata": {},
     "output_type": "execute_result"
    }
   ],
   "source": [
    "saver.main_folder"
   ]
  },
  {
   "cell_type": "code",
   "execution_count": 5,
   "metadata": {},
   "outputs": [],
   "source": [
    "some_string = 'v22a'"
   ]
  },
  {
   "cell_type": "code",
   "execution_count": 9,
   "metadata": {},
   "outputs": [
    {
     "data": {
      "text/plain": [
       "['v22a']"
      ]
     },
     "execution_count": 9,
     "metadata": {},
     "output_type": "execute_result"
    }
   ],
   "source": [
    "some_string.split(\" \")"
   ]
  },
  {
   "cell_type": "code",
   "execution_count": 5,
   "metadata": {},
   "outputs": [],
   "source": [
    "import os"
   ]
  },
  {
   "cell_type": "code",
   "execution_count": 10,
   "metadata": {},
   "outputs": [],
   "source": [
    "today = '2020-04-22'"
   ]
  },
  {
   "cell_type": "code",
   "execution_count": 6,
   "metadata": {},
   "outputs": [],
   "source": [
    "some_list = os.listdir(\"C:\\\\Users\\\\Maarten\\\\Documents\\\\Projects\\\\TheGame\\\\brains_new111\\\\PERD3QN\")\n"
   ]
  },
  {
   "cell_type": "code",
   "execution_count": 11,
   "metadata": {},
   "outputs": [],
   "source": [
    "if today in some_list:\n",
    "    print(\"yes\")"
   ]
  },
  {
   "cell_type": "code",
   "execution_count": null,
   "metadata": {},
   "outputs": [],
   "source": []
  },
  {
   "cell_type": "code",
   "execution_count": 31,
   "metadata": {},
   "outputs": [
    {
     "data": {
      "text/plain": [
       "['2020-04-22-v1a', '2020-04-22-v1b']"
      ]
     },
     "execution_count": 31,
     "metadata": {},
     "output_type": "execute_result"
    }
   ],
   "source": [
    "some_list"
   ]
  },
  {
   "cell_type": "code",
   "execution_count": 40,
   "metadata": {},
   "outputs": [
    {
     "data": {
      "text/plain": [
       "2"
      ]
     },
     "execution_count": 40,
     "metadata": {},
     "output_type": "execute_result"
    }
   ],
   "source": [
    "max([get_int(path.split(\"v\")[-1]) for path in some_list]) + 1"
   ]
  },
  {
   "cell_type": "code",
   "execution_count": null,
   "metadata": {},
   "outputs": [],
   "source": []
  },
  {
   "cell_type": "code",
   "execution_count": 38,
   "metadata": {},
   "outputs": [],
   "source": [
    "def get_int(a_string):\n",
    "    return int(\"\".join([s for s in a_string if s.isdigit()]))"
   ]
  },
  {
   "cell_type": "code",
   "execution_count": 13,
   "metadata": {},
   "outputs": [
    {
     "data": {
      "text/plain": [
       "22"
      ]
     },
     "execution_count": 13,
     "metadata": {},
     "output_type": "execute_result"
    }
   ],
   "source": []
  },
  {
   "cell_type": "code",
   "execution_count": 4,
   "metadata": {},
   "outputs": [
    {
     "data": {
      "text/plain": [
       "'v22a'"
      ]
     },
     "execution_count": 4,
     "metadata": {},
     "output_type": "execute_result"
    }
   ],
   "source": [
    "'v22a'"
   ]
  },
  {
   "cell_type": "code",
   "execution_count": 6,
   "metadata": {},
   "outputs": [],
   "source": [
    "import numpy as np"
   ]
  },
  {
   "cell_type": "code",
   "execution_count": 14,
   "metadata": {},
   "outputs": [],
   "source": [
    "vals, count = np.unique(['1', '2', '1'], return_counts=True)"
   ]
  },
  {
   "cell_type": "code",
   "execution_count": 20,
   "metadata": {},
   "outputs": [],
   "source": [
    "test = {1: \"2\", 2: \"3\"}"
   ]
  },
  {
   "cell_type": "code",
   "execution_count": 21,
   "metadata": {},
   "outputs": [
    {
     "data": {
      "text/plain": [
       "[(1, '2'), (2, '3')]"
      ]
     },
     "execution_count": 21,
     "metadata": {},
     "output_type": "execute_result"
    }
   ],
   "source": [
    "from operator import itemgetter\n",
    "sorted(test.items(), key=itemgetter(1))"
   ]
  },
  {
   "cell_type": "code",
   "execution_count": 19,
   "metadata": {},
   "outputs": [
    {
     "data": {
      "text/plain": [
       "'abcdefghijklmnopqrstuvwxyz'"
      ]
     },
     "execution_count": 19,
     "metadata": {},
     "output_type": "execute_result"
    }
   ],
   "source": [
    "string.ascii_lowercase"
   ]
  },
  {
   "cell_type": "code",
   "execution_count": 24,
   "metadata": {},
   "outputs": [],
   "source": [
    "test = ['1', '2', '2', '2', '3', '3']"
   ]
  },
  {
   "cell_type": "code",
   "execution_count": 74,
   "metadata": {},
   "outputs": [],
   "source": [
    "agents_paths = {1: '1', 2: '2', 3: '1', 4: '1', 5: '2', 6: '3'}\n",
    "vals, count = np.unique([val for val in agents_paths.values()], return_counts=True)\n",
    "duplicates = {x[0]: y[0] for x, y in zip(vals[np.argwhere(count>1)], count[np.argwhere(count>1)])}"
   ]
  },
  {
   "cell_type": "code",
   "execution_count": 75,
   "metadata": {},
   "outputs": [],
   "source": [
    "for duplicate in duplicates.keys():\n",
    "    counts = duplicates[duplicate]\n",
    "    \n",
    "    for count in range(counts):\n",
    "        agents_paths[get_key(duplicate, agents_paths)] = duplicate + string.ascii_lowercase[count]"
   ]
  },
  {
   "cell_type": "code",
   "execution_count": 76,
   "metadata": {},
   "outputs": [
    {
     "data": {
      "text/plain": [
       "{1: '1a', 2: '2a', 3: '1b', 4: '1c', 5: '2b', 6: '3'}"
      ]
     },
     "execution_count": 76,
     "metadata": {},
     "output_type": "execute_result"
    }
   ],
   "source": [
    "agents_paths"
   ]
  },
  {
   "cell_type": "code",
   "execution_count": 66,
   "metadata": {},
   "outputs": [],
   "source": [
    "def get_key(val, dictionary):\n",
    "    return next(key for key, value in dictionary.items() if value == val)"
   ]
  },
  {
   "cell_type": "code",
   "execution_count": 9,
   "metadata": {},
   "outputs": [],
   "source": [
    "import datetime"
   ]
  },
  {
   "cell_type": "code",
   "execution_count": 15,
   "metadata": {},
   "outputs": [
    {
     "data": {
      "text/plain": [
       "'22-04-2020 11:11'"
      ]
     },
     "execution_count": 15,
     "metadata": {},
     "output_type": "execute_result"
    }
   ],
   "source": [
    "from datetime import datetime\n",
    "datetime.now().strftime(\"%d-%m-%Y %H:%M\")"
   ]
  },
  {
   "cell_type": "code",
   "execution_count": 4,
   "metadata": {},
   "outputs": [],
   "source": [
    "import time"
   ]
  },
  {
   "cell_type": "code",
   "execution_count": 10,
   "metadata": {},
   "outputs": [],
   "source": [
    "import os"
   ]
  },
  {
   "cell_type": "code",
   "execution_count": 13,
   "metadata": {},
   "outputs": [
    {
     "data": {
      "text/plain": [
       "['2020-04-22']"
      ]
     },
     "execution_count": 13,
     "metadata": {},
     "output_type": "execute_result"
    }
   ],
   "source": [
    "files = os.listdir(\"C:\\\\Users\\\\Maarten\\\\Documents\\\\Projects\\\\TheGame\\\\brains_new111\\\\DRQN\")"
   ]
  },
  {
   "cell_type": "code",
   "execution_count": 14,
   "metadata": {},
   "outputs": [],
   "source": [
    "files = ['2020-04-22-v5', '2020-04-22-v12']"
   ]
  },
  {
   "cell_type": "code",
   "execution_count": 19,
   "metadata": {},
   "outputs": [],
   "source": [
    "index = max([int(file.split(\"v\")[-1]) for file in files]) + 1"
   ]
  },
  {
   "cell_type": "code",
   "execution_count": 21,
   "metadata": {},
   "outputs": [
    {
     "data": {
      "text/plain": [
       "13"
      ]
     },
     "execution_count": 21,
     "metadata": {},
     "output_type": "execute_result"
    }
   ],
   "source": [
    "index"
   ]
  },
  {
   "cell_type": "code",
   "execution_count": null,
   "metadata": {},
   "outputs": [],
   "source": [
    "class Agent:\n",
    "    def __init__(self, model):\n",
    "        \n",
    "    "
   ]
  },
  {
   "cell_type": "code",
   "execution_count": null,
   "metadata": {},
   "outputs": [],
   "source": [
    "agents = []"
   ]
  },
  {
   "cell_type": "code",
   "execution_count": null,
   "metadata": {},
   "outputs": [],
   "source": [
    "saver.save()"
   ]
  },
  {
   "cell_type": "code",
   "execution_count": 8,
   "metadata": {},
   "outputs": [],
   "source": [
    "import os\n",
    "\n",
    "\n",
    "def create_directory(path):\n",
    "    try:\n",
    "        os.mkdir(path)\n",
    "    except OSError:\n",
    "        print(f\"Creation of the following directory failed:\")\n",
    "        print(f\"* {path}\\n\")\n",
    "        return False\n",
    "    else:\n",
    "        print(\"Successfully created the directory:\")\n",
    "        print(f\"* {path}\\n\")\n",
    "        return True"
   ]
  },
  {
   "cell_type": "code",
   "execution_count": 9,
   "metadata": {},
   "outputs": [],
   "source": [
    "def prepare_folders(folder=\"brains_new\", model=\"PPO\"):\n",
    "    cwd = os.getcwd()\n",
    "    brains_path = cwd + \"\\\\\" + folder\n",
    "    model_path = brains_path + \"\\\\\" + model    \n",
    "    \n",
    "    for path in [brains_path, model_path]:\n",
    "        if os.path.exists(path):\n",
    "            print(f\"{path} already exists, no need to create new folder.\")\n",
    "            print() \n",
    "        else:\n",
    "            create_directory(path)"
   ]
  },
  {
   "cell_type": "code",
   "execution_count": null,
   "metadata": {},
   "outputs": [],
   "source": []
  },
  {
   "cell_type": "code",
   "execution_count": 10,
   "metadata": {},
   "outputs": [
    {
     "name": "stdout",
     "output_type": "stream",
     "text": [
      "Successfully created the directory:\n",
      "* C:\\Users\\Maarten\\Documents\\Projects\\TheGame\\brains_new\n",
      "\n",
      "Successfully created the directory:\n",
      "* C:\\Users\\Maarten\\Documents\\Projects\\TheGame\\brains_new\\PPO\n",
      "\n"
     ]
    }
   ],
   "source": [
    "prepare_folders()"
   ]
  },
  {
   "cell_type": "code",
   "execution_count": null,
   "metadata": {},
   "outputs": [],
   "source": []
  }
 ],
 "metadata": {
  "kernelspec": {
   "display_name": "Python 3",
   "language": "python",
   "name": "python3"
  },
  "language_info": {
   "codemirror_mode": {
    "name": "ipython",
    "version": 3
   },
   "file_extension": ".py",
   "mimetype": "text/x-python",
   "name": "python",
   "nbconvert_exporter": "python",
   "pygments_lexer": "ipython3",
   "version": "3.7.3"
  }
 },
 "nbformat": 4,
 "nbformat_minor": 2
}
