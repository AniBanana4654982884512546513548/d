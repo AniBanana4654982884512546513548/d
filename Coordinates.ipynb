{
 "cells": [
  {
   "cell_type": "code",
   "execution_count": 1,
   "metadata": {},
   "outputs": [
    {
     "name": "stdout",
     "output_type": "stream",
     "text": [
      "pygame 1.9.6\n",
      "Hello from the pygame community. https://www.pygame.org/contribute.html\n"
     ]
    }
   ],
   "source": [
    "import numpy as np\n",
    "\n",
    "import gym\n",
    "from gym import spaces\n",
    "\n",
    "import pygame\n",
    "from pygame import gfxdraw"
   ]
  },
  {
   "cell_type": "code",
   "execution_count": 40,
   "metadata": {},
   "outputs": [],
   "source": [
    "class Point:\n",
    "    def __init__(self, x, y, value):\n",
    "        self.x = x\n",
    "        self.y = y\n",
    "        self.value = value\n",
    "        self.coordinates = np.array([x, y], dtype=int)\n",
    "        \n",
    "    def update(self, x, y):\n",
    "        self.x = x\n",
    "        self.y = y\n",
    "        self.coordinates = np.array([x, y], dtype=int)"
   ]
  },
  {
   "cell_type": "code",
   "execution_count": null,
   "metadata": {},
   "outputs": [],
   "source": []
  },
  {
   "cell_type": "code",
   "execution_count": 46,
   "metadata": {},
   "outputs": [],
   "source": [
    "points = []\n",
    "width = 10\n",
    "height = 20\n",
    "for i in range(3):\n",
    "    points.append(Point(x=np.random.randint(width - 1),\n",
    "                   y=np.random.randint(height - 1),\n",
    "                   value=2))\n",
    "player = Point(x=np.random.randint(width - 1),\n",
    "                             y=np.random.randint(height - 1),\n",
    "                             value=1)"
   ]
  },
  {
   "cell_type": "code",
   "execution_count": 51,
   "metadata": {},
   "outputs": [
    {
     "data": {
      "text/plain": [
       "(6, 3)"
      ]
     },
     "execution_count": 51,
     "metadata": {},
     "output_type": "execute_result"
    }
   ],
   "source": [
    "player.x, player.y"
   ]
  },
  {
   "cell_type": "code",
   "execution_count": 59,
   "metadata": {},
   "outputs": [],
   "source": [
    "points.remove(points[0])"
   ]
  },
  {
   "cell_type": "code",
   "execution_count": 61,
   "metadata": {},
   "outputs": [
    {
     "data": {
      "text/plain": [
       "[<__main__.Point at 0x2603355a8c8>, <__main__.Point at 0x2603355a988>]"
      ]
     },
     "execution_count": 61,
     "metadata": {},
     "output_type": "execute_result"
    }
   ],
   "source": [
    "points"
   ]
  },
  {
   "cell_type": "code",
   "execution_count": 53,
   "metadata": {},
   "outputs": [
    {
     "data": {
      "text/plain": [
       "2"
      ]
     },
     "execution_count": 53,
     "metadata": {},
     "output_type": "execute_result"
    }
   ],
   "source": [
    "np.argmin([abs(point.x - player.x) + abs(point.y - player.y) for point in points])"
   ]
  },
  {
   "cell_type": "code",
   "execution_count": 57,
   "metadata": {},
   "outputs": [
    {
     "data": {
      "text/plain": [
       "0"
      ]
     },
     "execution_count": 57,
     "metadata": {},
     "output_type": "execute_result"
    }
   ],
   "source": [
    "np.argmin([1, 1, 2])"
   ]
  },
  {
   "cell_type": "code",
   "execution_count": null,
   "metadata": {},
   "outputs": [],
   "source": []
  },
  {
   "cell_type": "code",
   "execution_count": null,
   "metadata": {},
   "outputs": [],
   "source": []
  },
  {
   "cell_type": "code",
   "execution_count": 30,
   "metadata": {},
   "outputs": [],
   "source": [
    "class MazeEnv(gym.Env):\n",
    "    def __init__(self, width=10, height=12):\n",
    "        self.width = width\n",
    "        self.height = height\n",
    "        self.action_space = spaces.Discrete(4)\n",
    "        self.observation_space = spaces.Box(low=-max([height, width]),\n",
    "                                            high=max([height, width]),\n",
    "                                            shape=(1, 2),\n",
    "                                            dtype=np.int16)\n",
    "        self.current_episode = 0\n",
    "        self.scores = []\n",
    "        \n",
    "    def add_point(self, x, y, value):\n",
    "        \"\"\" Create and add a point to all coordinates \"\"\"\n",
    "        point = Point(x, y, value)\n",
    "        self.coordinates.append(point)\n",
    "        return point\n",
    "        \n",
    "    def create_numpy_map(self):\n",
    "        \"\"\" Convert all coordinates to a numpy representation \"\"\"\n",
    "        world = np.zeros((self.height, self.width))\n",
    "        \n",
    "        for point in self.coordinates:\n",
    "            world[(world.shape[0] - point.y -1, point.x)] = point.value\n",
    "            \n",
    "        return world\n",
    "        \n",
    "    def reset(self):\n",
    "        \"\"\" Reset the environment to the beginning \"\"\"\n",
    "        \n",
    "        # Init variables\n",
    "        self.total_reward = 0\n",
    "        self.coordinates = []\n",
    "        self.current_step = 0\n",
    "        self.max_step = 30\n",
    "        self.state = \"P\"\n",
    "        \n",
    "        # Initialize exit and player\n",
    "        self.exit = self.add_point(x = np.random.randint(self.width-1), \n",
    "                                   y = np.random.randint(self.height-1), \n",
    "                                   value = 2)\n",
    "        self.player = self.add_point(x = np.random.randint(self.width-1), \n",
    "                                     y = np.random.randint(self.height-1), \n",
    "                                     value = 1)\n",
    "\n",
    "        obs = np.array([self.exit.x - self.player.x, self.exit.y - self.player.y])\n",
    "        \n",
    "        return obs\n",
    "    \n",
    "    def move(self, action):\n",
    "        \"\"\" Move the player to one space adjacent (up, right, down, left) \"\"\"\n",
    "        if action == 0 and self.player.y != (self.height - 1) : # up\n",
    "            self.player.update(self.player.x, self.player.y + 1)\n",
    "        elif action == 1 and self.player.x != (self.width - 1) : # right\n",
    "            self.player.update(self.player.x + 1, self.player.y)\n",
    "        elif action == 2 and self.player.y != 0 : # down\n",
    "            self.player.update(self.player.x, self.player.y - 1)\n",
    "        elif action == 3 and self.player.x != 0 : # left\n",
    "            self.player.update(self.player.x - 1, self.player.y)\n",
    "            \n",
    "    def get_reward(self):\n",
    "        \"\"\" Extract reward and whether the game has finished \"\"\"\n",
    "        if np.array_equal(self.player.coordinates, self.exit.coordinates):\n",
    "            self.state = \"W\"\n",
    "#             print(f'You won! - {self.current_episode}')\n",
    "            reward = 200\n",
    "            self.total_reward += 200\n",
    "            done = True\n",
    "        elif self.current_step == self.max_step:\n",
    "            self.state = \"L\"\n",
    "#             print(f\"You lost - Didn't make it in time... {self.current_episode}\")\n",
    "            reward = -200\n",
    "            self.total_reward -= 200\n",
    "            done = True    \n",
    "        elif self.state == 'P':\n",
    "            reward = -1\n",
    "            self.total_reward -= 1\n",
    "            done = False\n",
    "            \n",
    "        return reward, done\n",
    "        \n",
    "    \n",
    "    def step(self, action):\n",
    "        \"\"\" Move a single step \"\"\"\n",
    "        self.current_step += 1\n",
    "        self.move(action)\n",
    "        reward, done = self.get_reward()\n",
    "            \n",
    "        if done:\n",
    "            self.current_episode += 1\n",
    "            self.scores.append(self.total_reward)\n",
    "\n",
    "        obs = np.array([self.exit.x - self.player.x, self.exit.y - self.player.y])\n",
    "\n",
    "        return obs, reward, done, {}\n",
    "    \n",
    "    def render(self):\n",
    "        pygame.init()\n",
    "        multiplier = 20\n",
    "        self.screen = pygame.display.set_mode((round(self.width)*multiplier, round(self.height)*multiplier))\n",
    "        clock = pygame.time.Clock()\n",
    "        clock.tick(5)\n",
    "        self.screen.fill((255, 255, 255))\n",
    "        \n",
    "        pygame.gfxdraw.filled_circle(self.screen, round(self.player.x*multiplier), round(self.player.y*multiplier), \n",
    "                                     int(multiplier/2), (255, 0, 0))\n",
    "        pygame.gfxdraw.filled_circle(self.screen, round(self.exit.x*multiplier), round(self.exit.y*multiplier), \n",
    "                                     int(multiplier/2), (0, 255, 0))\n",
    "        \n",
    "        pygame.display.update()\n",
    "        \n",
    "        for event in pygame.event.get():\n",
    "            if event.type == pygame.QUIT:\n",
    "                pygame.quit()\n",
    "                return False\n",
    "        return True"
   ]
  },
  {
   "cell_type": "code",
   "execution_count": 33,
   "metadata": {
    "scrolled": true
   },
   "outputs": [
    {
     "name": "stdout",
     "output_type": "stream",
     "text": [
      "--------------------------------------\n",
      "| approxkl           | 0.00077575486 |\n",
      "| clipfrac           | 0.0           |\n",
      "| explained_variance | 8.27e-05      |\n",
      "| fps                | 376           |\n",
      "| n_updates          | 1             |\n",
      "| policy_entropy     | 1.3854253     |\n",
      "| policy_loss        | -0.0034411512 |\n",
      "| serial_timesteps   | 128           |\n",
      "| time_elapsed       | 0             |\n",
      "| total_timesteps    | 128           |\n",
      "| value_loss         | 5901.9834     |\n",
      "--------------------------------------\n",
      "-------------------------------------\n",
      "| approxkl           | 0.0006597665 |\n",
      "| clipfrac           | 0.001953125  |\n",
      "| explained_variance | 0.0039       |\n",
      "| fps                | 1580         |\n",
      "| n_updates          | 100          |\n",
      "| policy_entropy     | 0.3426526    |\n",
      "| policy_loss        | 0.0041638543 |\n",
      "| serial_timesteps   | 12800        |\n",
      "| time_elapsed       | 8.39         |\n",
      "| total_timesteps    | 12800        |\n",
      "| value_loss         | 8508.478     |\n",
      "-------------------------------------\n",
      "-------------------------------------\n",
      "| approxkl           | 0.012064782  |\n",
      "| clipfrac           | 0.083984375  |\n",
      "| explained_variance | 0.000948     |\n",
      "| fps                | 1619         |\n",
      "| n_updates          | 200          |\n",
      "| policy_entropy     | 0.37505153   |\n",
      "| policy_loss        | 0.0047794776 |\n",
      "| serial_timesteps   | 25600        |\n",
      "| time_elapsed       | 16.5         |\n",
      "| total_timesteps    | 25600        |\n",
      "| value_loss         | 3980.5715    |\n",
      "-------------------------------------\n",
      "--------------------------------------\n",
      "| approxkl           | 0.00046104513 |\n",
      "| clipfrac           | 0.00390625    |\n",
      "| explained_variance | 0.00236       |\n",
      "| fps                | 1580          |\n",
      "| n_updates          | 300           |\n",
      "| policy_entropy     | 0.23754354    |\n",
      "| policy_loss        | 0.00027475157 |\n",
      "| serial_timesteps   | 38400         |\n",
      "| time_elapsed       | 24.7          |\n",
      "| total_timesteps    | 38400         |\n",
      "| value_loss         | 1709.2653     |\n",
      "--------------------------------------\n",
      "--------------------------------------\n",
      "| approxkl           | 0.0018992595  |\n",
      "| clipfrac           | 0.025390625   |\n",
      "| explained_variance | 0.0105        |\n",
      "| fps                | 1346          |\n",
      "| n_updates          | 400           |\n",
      "| policy_entropy     | 0.29558536    |\n",
      "| policy_loss        | -0.0039279545 |\n",
      "| serial_timesteps   | 51200         |\n",
      "| time_elapsed       | 32.9          |\n",
      "| total_timesteps    | 51200         |\n",
      "| value_loss         | 448.6178      |\n",
      "--------------------------------------\n",
      "--------------------------------------\n",
      "| approxkl           | 0.0020791471  |\n",
      "| clipfrac           | 0.025390625   |\n",
      "| explained_variance | 0.983         |\n",
      "| fps                | 1599          |\n",
      "| n_updates          | 500           |\n",
      "| policy_entropy     | 0.3091703     |\n",
      "| policy_loss        | -0.0026962766 |\n",
      "| serial_timesteps   | 64000         |\n",
      "| time_elapsed       | 41.4          |\n",
      "| total_timesteps    | 64000         |\n",
      "| value_loss         | 0.61011577    |\n",
      "--------------------------------------\n",
      "-------------------------------------\n",
      "| approxkl           | 0.0057787113 |\n",
      "| clipfrac           | 0.080078125  |\n",
      "| explained_variance | 0.998        |\n",
      "| fps                | 1580         |\n",
      "| n_updates          | 600          |\n",
      "| policy_entropy     | 0.246912     |\n",
      "| policy_loss        | -0.013510425 |\n",
      "| serial_timesteps   | 76800        |\n",
      "| time_elapsed       | 49.5         |\n",
      "| total_timesteps    | 76800        |\n",
      "| value_loss         | 0.073368646  |\n",
      "-------------------------------------\n",
      "--------------------------------------\n",
      "| approxkl           | 0.0019990779  |\n",
      "| clipfrac           | 0.029296875   |\n",
      "| explained_variance | 1             |\n",
      "| fps                | 1580          |\n",
      "| n_updates          | 700           |\n",
      "| policy_entropy     | 0.2850691     |\n",
      "| policy_loss        | -0.0023871218 |\n",
      "| serial_timesteps   | 89600         |\n",
      "| time_elapsed       | 57.8          |\n",
      "| total_timesteps    | 89600         |\n",
      "| value_loss         | 0.010769512   |\n",
      "--------------------------------------\n"
     ]
    },
    {
     "ename": "KeyboardInterrupt",
     "evalue": "",
     "output_type": "error",
     "traceback": [
      "\u001b[1;31m---------------------------------------------------------------------------\u001b[0m",
      "\u001b[1;31mKeyboardInterrupt\u001b[0m                         Traceback (most recent call last)",
      "\u001b[1;32m<ipython-input-33-9bff63c9cff1>\u001b[0m in \u001b[0;36m<module>\u001b[1;34m\u001b[0m\n\u001b[0;32m      8\u001b[0m \u001b[1;31m# model = DQN(MlpPolicy, env, learning_rate=0.001, verbose=1)\u001b[0m\u001b[1;33m\u001b[0m\u001b[1;33m\u001b[0m\u001b[1;33m\u001b[0m\u001b[0m\n\u001b[0;32m      9\u001b[0m \u001b[1;33m\u001b[0m\u001b[0m\n\u001b[1;32m---> 10\u001b[1;33m \u001b[0mmodel\u001b[0m\u001b[1;33m.\u001b[0m\u001b[0mlearn\u001b[0m\u001b[1;33m(\u001b[0m\u001b[1;36m100_000\u001b[0m\u001b[1;33m,\u001b[0m \u001b[0mlog_interval\u001b[0m\u001b[1;33m=\u001b[0m\u001b[1;36m100\u001b[0m\u001b[1;33m)\u001b[0m\u001b[1;33m\u001b[0m\u001b[1;33m\u001b[0m\u001b[0m\n\u001b[0m",
      "\u001b[1;32mc:\\users\\maarten.grootendorst\\appdata\\local\\continuum\\miniconda3\\lib\\site-packages\\stable_baselines\\ppo2\\ppo2.py\u001b[0m in \u001b[0;36mlearn\u001b[1;34m(self, total_timesteps, callback, seed, log_interval, tb_log_name, reset_num_timesteps)\u001b[0m\n\u001b[0;32m    332\u001b[0m                 \u001b[0mcliprange_vf_now\u001b[0m \u001b[1;33m=\u001b[0m \u001b[0mcliprange_vf\u001b[0m\u001b[1;33m(\u001b[0m\u001b[0mfrac\u001b[0m\u001b[1;33m)\u001b[0m\u001b[1;33m\u001b[0m\u001b[1;33m\u001b[0m\u001b[0m\n\u001b[0;32m    333\u001b[0m                 \u001b[1;31m# true_reward is the reward without discount\u001b[0m\u001b[1;33m\u001b[0m\u001b[1;33m\u001b[0m\u001b[1;33m\u001b[0m\u001b[0m\n\u001b[1;32m--> 334\u001b[1;33m                 \u001b[0mobs\u001b[0m\u001b[1;33m,\u001b[0m \u001b[0mreturns\u001b[0m\u001b[1;33m,\u001b[0m \u001b[0mmasks\u001b[0m\u001b[1;33m,\u001b[0m \u001b[0mactions\u001b[0m\u001b[1;33m,\u001b[0m \u001b[0mvalues\u001b[0m\u001b[1;33m,\u001b[0m \u001b[0mneglogpacs\u001b[0m\u001b[1;33m,\u001b[0m \u001b[0mstates\u001b[0m\u001b[1;33m,\u001b[0m \u001b[0mep_infos\u001b[0m\u001b[1;33m,\u001b[0m \u001b[0mtrue_reward\u001b[0m \u001b[1;33m=\u001b[0m \u001b[0mrunner\u001b[0m\u001b[1;33m.\u001b[0m\u001b[0mrun\u001b[0m\u001b[1;33m(\u001b[0m\u001b[1;33m)\u001b[0m\u001b[1;33m\u001b[0m\u001b[1;33m\u001b[0m\u001b[0m\n\u001b[0m\u001b[0;32m    335\u001b[0m                 \u001b[0mself\u001b[0m\u001b[1;33m.\u001b[0m\u001b[0mnum_timesteps\u001b[0m \u001b[1;33m+=\u001b[0m \u001b[0mself\u001b[0m\u001b[1;33m.\u001b[0m\u001b[0mn_batch\u001b[0m\u001b[1;33m\u001b[0m\u001b[1;33m\u001b[0m\u001b[0m\n\u001b[0;32m    336\u001b[0m                 \u001b[0mep_info_buf\u001b[0m\u001b[1;33m.\u001b[0m\u001b[0mextend\u001b[0m\u001b[1;33m(\u001b[0m\u001b[0mep_infos\u001b[0m\u001b[1;33m)\u001b[0m\u001b[1;33m\u001b[0m\u001b[1;33m\u001b[0m\u001b[0m\n",
      "\u001b[1;32mc:\\users\\maarten.grootendorst\\appdata\\local\\continuum\\miniconda3\\lib\\site-packages\\stable_baselines\\ppo2\\ppo2.py\u001b[0m in \u001b[0;36mrun\u001b[1;34m(self)\u001b[0m\n\u001b[0;32m    463\u001b[0m         \u001b[0mep_infos\u001b[0m \u001b[1;33m=\u001b[0m \u001b[1;33m[\u001b[0m\u001b[1;33m]\u001b[0m\u001b[1;33m\u001b[0m\u001b[1;33m\u001b[0m\u001b[0m\n\u001b[0;32m    464\u001b[0m         \u001b[1;32mfor\u001b[0m \u001b[0m_\u001b[0m \u001b[1;32min\u001b[0m \u001b[0mrange\u001b[0m\u001b[1;33m(\u001b[0m\u001b[0mself\u001b[0m\u001b[1;33m.\u001b[0m\u001b[0mn_steps\u001b[0m\u001b[1;33m)\u001b[0m\u001b[1;33m:\u001b[0m\u001b[1;33m\u001b[0m\u001b[1;33m\u001b[0m\u001b[0m\n\u001b[1;32m--> 465\u001b[1;33m             \u001b[0mactions\u001b[0m\u001b[1;33m,\u001b[0m \u001b[0mvalues\u001b[0m\u001b[1;33m,\u001b[0m \u001b[0mself\u001b[0m\u001b[1;33m.\u001b[0m\u001b[0mstates\u001b[0m\u001b[1;33m,\u001b[0m \u001b[0mneglogpacs\u001b[0m \u001b[1;33m=\u001b[0m \u001b[0mself\u001b[0m\u001b[1;33m.\u001b[0m\u001b[0mmodel\u001b[0m\u001b[1;33m.\u001b[0m\u001b[0mstep\u001b[0m\u001b[1;33m(\u001b[0m\u001b[0mself\u001b[0m\u001b[1;33m.\u001b[0m\u001b[0mobs\u001b[0m\u001b[1;33m,\u001b[0m \u001b[0mself\u001b[0m\u001b[1;33m.\u001b[0m\u001b[0mstates\u001b[0m\u001b[1;33m,\u001b[0m \u001b[0mself\u001b[0m\u001b[1;33m.\u001b[0m\u001b[0mdones\u001b[0m\u001b[1;33m)\u001b[0m\u001b[1;33m\u001b[0m\u001b[1;33m\u001b[0m\u001b[0m\n\u001b[0m\u001b[0;32m    466\u001b[0m             \u001b[0mmb_obs\u001b[0m\u001b[1;33m.\u001b[0m\u001b[0mappend\u001b[0m\u001b[1;33m(\u001b[0m\u001b[0mself\u001b[0m\u001b[1;33m.\u001b[0m\u001b[0mobs\u001b[0m\u001b[1;33m.\u001b[0m\u001b[0mcopy\u001b[0m\u001b[1;33m(\u001b[0m\u001b[1;33m)\u001b[0m\u001b[1;33m)\u001b[0m\u001b[1;33m\u001b[0m\u001b[1;33m\u001b[0m\u001b[0m\n\u001b[0;32m    467\u001b[0m             \u001b[0mmb_actions\u001b[0m\u001b[1;33m.\u001b[0m\u001b[0mappend\u001b[0m\u001b[1;33m(\u001b[0m\u001b[0mactions\u001b[0m\u001b[1;33m)\u001b[0m\u001b[1;33m\u001b[0m\u001b[1;33m\u001b[0m\u001b[0m\n",
      "\u001b[1;32mc:\\users\\maarten.grootendorst\\appdata\\local\\continuum\\miniconda3\\lib\\site-packages\\stable_baselines\\common\\policies.py\u001b[0m in \u001b[0;36mstep\u001b[1;34m(self, obs, state, mask, deterministic)\u001b[0m\n\u001b[0;32m    575\u001b[0m         \u001b[1;32melse\u001b[0m\u001b[1;33m:\u001b[0m\u001b[1;33m\u001b[0m\u001b[1;33m\u001b[0m\u001b[0m\n\u001b[0;32m    576\u001b[0m             action, value, neglogp = self.sess.run([self.action, self.value_flat, self.neglogp],\n\u001b[1;32m--> 577\u001b[1;33m                                                    {self.obs_ph: obs})\n\u001b[0m\u001b[0;32m    578\u001b[0m         \u001b[1;32mreturn\u001b[0m \u001b[0maction\u001b[0m\u001b[1;33m,\u001b[0m \u001b[0mvalue\u001b[0m\u001b[1;33m,\u001b[0m \u001b[0mself\u001b[0m\u001b[1;33m.\u001b[0m\u001b[0minitial_state\u001b[0m\u001b[1;33m,\u001b[0m \u001b[0mneglogp\u001b[0m\u001b[1;33m\u001b[0m\u001b[1;33m\u001b[0m\u001b[0m\n\u001b[0;32m    579\u001b[0m \u001b[1;33m\u001b[0m\u001b[0m\n",
      "\u001b[1;32mc:\\users\\maarten.grootendorst\\appdata\\local\\continuum\\miniconda3\\lib\\site-packages\\tensorflow\\python\\client\\session.py\u001b[0m in \u001b[0;36mrun\u001b[1;34m(self, fetches, feed_dict, options, run_metadata)\u001b[0m\n\u001b[0;32m    927\u001b[0m     \u001b[1;32mtry\u001b[0m\u001b[1;33m:\u001b[0m\u001b[1;33m\u001b[0m\u001b[1;33m\u001b[0m\u001b[0m\n\u001b[0;32m    928\u001b[0m       result = self._run(None, fetches, feed_dict, options_ptr,\n\u001b[1;32m--> 929\u001b[1;33m                          run_metadata_ptr)\n\u001b[0m\u001b[0;32m    930\u001b[0m       \u001b[1;32mif\u001b[0m \u001b[0mrun_metadata\u001b[0m\u001b[1;33m:\u001b[0m\u001b[1;33m\u001b[0m\u001b[1;33m\u001b[0m\u001b[0m\n\u001b[0;32m    931\u001b[0m         \u001b[0mproto_data\u001b[0m \u001b[1;33m=\u001b[0m \u001b[0mtf_session\u001b[0m\u001b[1;33m.\u001b[0m\u001b[0mTF_GetBuffer\u001b[0m\u001b[1;33m(\u001b[0m\u001b[0mrun_metadata_ptr\u001b[0m\u001b[1;33m)\u001b[0m\u001b[1;33m\u001b[0m\u001b[1;33m\u001b[0m\u001b[0m\n",
      "\u001b[1;32mc:\\users\\maarten.grootendorst\\appdata\\local\\continuum\\miniconda3\\lib\\site-packages\\tensorflow\\python\\client\\session.py\u001b[0m in \u001b[0;36m_run\u001b[1;34m(self, handle, fetches, feed_dict, options, run_metadata)\u001b[0m\n\u001b[0;32m   1150\u001b[0m     \u001b[1;32mif\u001b[0m \u001b[0mfinal_fetches\u001b[0m \u001b[1;32mor\u001b[0m \u001b[0mfinal_targets\u001b[0m \u001b[1;32mor\u001b[0m \u001b[1;33m(\u001b[0m\u001b[0mhandle\u001b[0m \u001b[1;32mand\u001b[0m \u001b[0mfeed_dict_tensor\u001b[0m\u001b[1;33m)\u001b[0m\u001b[1;33m:\u001b[0m\u001b[1;33m\u001b[0m\u001b[1;33m\u001b[0m\u001b[0m\n\u001b[0;32m   1151\u001b[0m       results = self._do_run(handle, final_targets, final_fetches,\n\u001b[1;32m-> 1152\u001b[1;33m                              feed_dict_tensor, options, run_metadata)\n\u001b[0m\u001b[0;32m   1153\u001b[0m     \u001b[1;32melse\u001b[0m\u001b[1;33m:\u001b[0m\u001b[1;33m\u001b[0m\u001b[1;33m\u001b[0m\u001b[0m\n\u001b[0;32m   1154\u001b[0m       \u001b[0mresults\u001b[0m \u001b[1;33m=\u001b[0m \u001b[1;33m[\u001b[0m\u001b[1;33m]\u001b[0m\u001b[1;33m\u001b[0m\u001b[1;33m\u001b[0m\u001b[0m\n",
      "\u001b[1;32mc:\\users\\maarten.grootendorst\\appdata\\local\\continuum\\miniconda3\\lib\\site-packages\\tensorflow\\python\\client\\session.py\u001b[0m in \u001b[0;36m_do_run\u001b[1;34m(self, handle, target_list, fetch_list, feed_dict, options, run_metadata)\u001b[0m\n\u001b[0;32m   1326\u001b[0m     \u001b[1;32mif\u001b[0m \u001b[0mhandle\u001b[0m \u001b[1;32mis\u001b[0m \u001b[1;32mNone\u001b[0m\u001b[1;33m:\u001b[0m\u001b[1;33m\u001b[0m\u001b[1;33m\u001b[0m\u001b[0m\n\u001b[0;32m   1327\u001b[0m       return self._do_call(_run_fn, feeds, fetches, targets, options,\n\u001b[1;32m-> 1328\u001b[1;33m                            run_metadata)\n\u001b[0m\u001b[0;32m   1329\u001b[0m     \u001b[1;32melse\u001b[0m\u001b[1;33m:\u001b[0m\u001b[1;33m\u001b[0m\u001b[1;33m\u001b[0m\u001b[0m\n\u001b[0;32m   1330\u001b[0m       \u001b[1;32mreturn\u001b[0m \u001b[0mself\u001b[0m\u001b[1;33m.\u001b[0m\u001b[0m_do_call\u001b[0m\u001b[1;33m(\u001b[0m\u001b[0m_prun_fn\u001b[0m\u001b[1;33m,\u001b[0m \u001b[0mhandle\u001b[0m\u001b[1;33m,\u001b[0m \u001b[0mfeeds\u001b[0m\u001b[1;33m,\u001b[0m \u001b[0mfetches\u001b[0m\u001b[1;33m)\u001b[0m\u001b[1;33m\u001b[0m\u001b[1;33m\u001b[0m\u001b[0m\n",
      "\u001b[1;32mc:\\users\\maarten.grootendorst\\appdata\\local\\continuum\\miniconda3\\lib\\site-packages\\tensorflow\\python\\client\\session.py\u001b[0m in \u001b[0;36m_do_call\u001b[1;34m(self, fn, *args)\u001b[0m\n\u001b[0;32m   1332\u001b[0m   \u001b[1;32mdef\u001b[0m \u001b[0m_do_call\u001b[0m\u001b[1;33m(\u001b[0m\u001b[0mself\u001b[0m\u001b[1;33m,\u001b[0m \u001b[0mfn\u001b[0m\u001b[1;33m,\u001b[0m \u001b[1;33m*\u001b[0m\u001b[0margs\u001b[0m\u001b[1;33m)\u001b[0m\u001b[1;33m:\u001b[0m\u001b[1;33m\u001b[0m\u001b[1;33m\u001b[0m\u001b[0m\n\u001b[0;32m   1333\u001b[0m     \u001b[1;32mtry\u001b[0m\u001b[1;33m:\u001b[0m\u001b[1;33m\u001b[0m\u001b[1;33m\u001b[0m\u001b[0m\n\u001b[1;32m-> 1334\u001b[1;33m       \u001b[1;32mreturn\u001b[0m \u001b[0mfn\u001b[0m\u001b[1;33m(\u001b[0m\u001b[1;33m*\u001b[0m\u001b[0margs\u001b[0m\u001b[1;33m)\u001b[0m\u001b[1;33m\u001b[0m\u001b[1;33m\u001b[0m\u001b[0m\n\u001b[0m\u001b[0;32m   1335\u001b[0m     \u001b[1;32mexcept\u001b[0m \u001b[0merrors\u001b[0m\u001b[1;33m.\u001b[0m\u001b[0mOpError\u001b[0m \u001b[1;32mas\u001b[0m \u001b[0me\u001b[0m\u001b[1;33m:\u001b[0m\u001b[1;33m\u001b[0m\u001b[1;33m\u001b[0m\u001b[0m\n\u001b[0;32m   1336\u001b[0m       \u001b[0mmessage\u001b[0m \u001b[1;33m=\u001b[0m \u001b[0mcompat\u001b[0m\u001b[1;33m.\u001b[0m\u001b[0mas_text\u001b[0m\u001b[1;33m(\u001b[0m\u001b[0me\u001b[0m\u001b[1;33m.\u001b[0m\u001b[0mmessage\u001b[0m\u001b[1;33m)\u001b[0m\u001b[1;33m\u001b[0m\u001b[1;33m\u001b[0m\u001b[0m\n",
      "\u001b[1;32mc:\\users\\maarten.grootendorst\\appdata\\local\\continuum\\miniconda3\\lib\\site-packages\\tensorflow\\python\\client\\session.py\u001b[0m in \u001b[0;36m_run_fn\u001b[1;34m(feed_dict, fetch_list, target_list, options, run_metadata)\u001b[0m\n\u001b[0;32m   1317\u001b[0m       \u001b[0mself\u001b[0m\u001b[1;33m.\u001b[0m\u001b[0m_extend_graph\u001b[0m\u001b[1;33m(\u001b[0m\u001b[1;33m)\u001b[0m\u001b[1;33m\u001b[0m\u001b[1;33m\u001b[0m\u001b[0m\n\u001b[0;32m   1318\u001b[0m       return self._call_tf_sessionrun(\n\u001b[1;32m-> 1319\u001b[1;33m           options, feed_dict, fetch_list, target_list, run_metadata)\n\u001b[0m\u001b[0;32m   1320\u001b[0m \u001b[1;33m\u001b[0m\u001b[0m\n\u001b[0;32m   1321\u001b[0m     \u001b[1;32mdef\u001b[0m \u001b[0m_prun_fn\u001b[0m\u001b[1;33m(\u001b[0m\u001b[0mhandle\u001b[0m\u001b[1;33m,\u001b[0m \u001b[0mfeed_dict\u001b[0m\u001b[1;33m,\u001b[0m \u001b[0mfetch_list\u001b[0m\u001b[1;33m)\u001b[0m\u001b[1;33m:\u001b[0m\u001b[1;33m\u001b[0m\u001b[1;33m\u001b[0m\u001b[0m\n",
      "\u001b[1;32mc:\\users\\maarten.grootendorst\\appdata\\local\\continuum\\miniconda3\\lib\\site-packages\\tensorflow\\python\\client\\session.py\u001b[0m in \u001b[0;36m_call_tf_sessionrun\u001b[1;34m(self, options, feed_dict, fetch_list, target_list, run_metadata)\u001b[0m\n\u001b[0;32m   1405\u001b[0m     return tf_session.TF_SessionRun_wrapper(\n\u001b[0;32m   1406\u001b[0m         \u001b[0mself\u001b[0m\u001b[1;33m.\u001b[0m\u001b[0m_session\u001b[0m\u001b[1;33m,\u001b[0m \u001b[0moptions\u001b[0m\u001b[1;33m,\u001b[0m \u001b[0mfeed_dict\u001b[0m\u001b[1;33m,\u001b[0m \u001b[0mfetch_list\u001b[0m\u001b[1;33m,\u001b[0m \u001b[0mtarget_list\u001b[0m\u001b[1;33m,\u001b[0m\u001b[1;33m\u001b[0m\u001b[1;33m\u001b[0m\u001b[0m\n\u001b[1;32m-> 1407\u001b[1;33m         run_metadata)\n\u001b[0m\u001b[0;32m   1408\u001b[0m \u001b[1;33m\u001b[0m\u001b[0m\n\u001b[0;32m   1409\u001b[0m   \u001b[1;32mdef\u001b[0m \u001b[0m_call_tf_sessionprun\u001b[0m\u001b[1;33m(\u001b[0m\u001b[0mself\u001b[0m\u001b[1;33m,\u001b[0m \u001b[0mhandle\u001b[0m\u001b[1;33m,\u001b[0m \u001b[0mfeed_dict\u001b[0m\u001b[1;33m,\u001b[0m \u001b[0mfetch_list\u001b[0m\u001b[1;33m)\u001b[0m\u001b[1;33m:\u001b[0m\u001b[1;33m\u001b[0m\u001b[1;33m\u001b[0m\u001b[0m\n",
      "\u001b[1;31mKeyboardInterrupt\u001b[0m: "
     ]
    }
   ],
   "source": [
    "from stable_baselines.common.policies import MlpPolicy\n",
    "# from stable_baselines.deepq.policies import MlpPolicy\n",
    "from stable_baselines.common.vec_env import DummyVecEnv, VecNormalize\n",
    "from stable_baselines import PPO2, DQN, SAC\n",
    "\n",
    "env = DummyVecEnv([lambda: MazeEnv()])\n",
    "model = PPO2(MlpPolicy, env, learning_rate=0.001, verbose=1)\n",
    "# model = DQN(MlpPolicy, env, learning_rate=0.001, verbose=1)\n",
    "\n",
    "model.learn(100_000, log_interval=100)"
   ]
  },
  {
   "cell_type": "code",
   "execution_count": 34,
   "metadata": {},
   "outputs": [],
   "source": [
    "obs = env.reset()\n",
    "while True:\n",
    "    action, _states = model.predict(obs)\n",
    "    obs, rewards, dones, info = env.step(action)\n",
    "    if not env.render():\n",
    "        break"
   ]
  }
 ],
 "metadata": {
  "kernelspec": {
   "display_name": "Python 3",
   "language": "python",
   "name": "python3"
  },
  "language_info": {
   "codemirror_mode": {
    "name": "ipython",
    "version": 3
   },
   "file_extension": ".py",
   "mimetype": "text/x-python",
   "name": "python",
   "nbconvert_exporter": "python",
   "pygments_lexer": "ipython3",
   "version": "3.7.4"
  }
 },
 "nbformat": 4,
 "nbformat_minor": 2
}
